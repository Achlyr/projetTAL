{
  "cells": [
    {
      "cell_type": "markdown",
      "metadata": {
        "id": "JsPNWg19O0jE"
      },
      "source": [
        "## Importation des données et création des sous-corpus pour l'analyse"
      ]
    },
    {
      "cell_type": "code",
      "execution_count": 23,
      "metadata": {
        "id": "nigjWnBZO0jI"
      },
      "outputs": [],
      "source": [
        "import pandas as pd\n",
        "import re\n",
        "import tqdm as notebook_tqdm\n",
        "from collections import defaultdict\n",
        "import tensorflow as tf\n",
        "from transformers import pipeline, TFDistilBertForSequenceClassification, DistilBertTokenizer\n",
        "\n"
      ]
    },
    {
      "cell_type": "code",
      "execution_count": 24,
      "metadata": {
        "id": "0z8geWODO0jK"
      },
      "outputs": [],
      "source": [
        "#Récupération des données annotées\n",
        "tabA=pd.read_csv(\"edos_labelled_aggregated.csv\",sep=\",\")\n",
        "\n",
        "# Création d'un fichier avec les entrées non annotés\n",
        "with open(\"edos_non_labelled_aggregated.csv\", \"w\", encoding=\"utf-8\") as f_out_total:\n",
        "    f_out_total.write(\"rewire_id,text\\n\")\n",
        "    for i in range(len(tabA)):\n",
        "        id=tabA[\"rewire_id\"].iloc[i]\n",
        "        text = tabA[\"text\"].iloc[i]\n",
        "        text_escaped = text.replace('\"', '\"\"')\n",
        "        f_out_total.write(id+\",\\\"\"+text_escaped+\"\\\"\\n\")\n",
        "\n",
        "# Création d'un fichier avec le texte des entrées sexistes et un fichier avec le texte des entrées non sexistes\n",
        "with open(\"non_labelled_sexist.csv\", \"w\", encoding=\"utf-8\") as f_out_sexist, open(\"non_labelled_nonsexist.csv\", \"w\", encoding=\"utf-8\") as f_out_nonsexist:\n",
        "    f_out_sexist.write(\"rewire_id,text\\n\")\n",
        "    f_out_nonsexist.write(\"rewire_id,text\\n\")\n",
        "    for j in range(len(tabA)):\n",
        "        id=tabA[\"rewire_id\"].iloc[j]\n",
        "        label = tabA[\"label_sexist\"].iloc[j]\n",
        "        text = tabA[\"text\"].iloc[j]\n",
        "        text_escaped = text.replace('\"', '\"\"')\n",
        "        if label == \"not sexist\":\n",
        "            f_out_nonsexist.write(id+\",\\\"\"+text_escaped + \"\\\"\\n\")\n",
        "        else:\n",
        "            f_out_sexist.write(id+\",\\\"\"+text_escaped + \"\\\"\\n\")\n"
      ]
    },
    {
      "cell_type": "markdown",
      "metadata": {
        "id": "hkeZw-xCO0jM"
      },
      "source": [
        "## Première étape : Création d'une regex efficace pour repérer les termes sexistes"
      ]
    },
    {
      "cell_type": "markdown",
      "metadata": {
        "id": "e-yICJKvO0jN"
      },
      "source": [
        "### Vérification de la présence d'une ou plusieurs références (sexistes et/ou descriptives) aux femmes dans toutes les entrées du sous-corpus sexiste\n",
        "\n",
        "On cherche d'abord à ajouter le plus de mots à notre regex pour englober le plus de possibilité (et à récupérer les id des entrées qui ne matchent pas avec cette dernière pour pouvoir éventuellement les analyser par la suite)"
      ]
    },
    {
      "cell_type": "code",
      "execution_count": 30,
      "metadata": {
        "id": "jkc5HRcQO0jO",
        "outputId": "c9603d36-b08a-4a19-86d1-7b53e2291ae3"
      },
      "outputs": [
        {
          "name": "stdout",
          "output_type": "stream",
          "text": [
            "Nombre d'entrées contenant au moins un terme de la regex : 4794 sur  4854 . On a donc réussi à matcher 98.76390605686032 % des entrées sexistes avec cette regex.\n",
            "Les id des entrées non matchées sont : ['sexism2022_english-4332', 'sexism2022_english-16502', 'sexism2022_english-12602', 'sexism2022_english-2378', 'sexism2022_english-12024', 'sexism2022_english-4392', 'sexism2022_english-2930', 'sexism2022_english-9285', 'sexism2022_english-8155', 'sexism2022_english-3880', 'sexism2022_english-7046', 'sexism2022_english-3886', 'sexism2022_english-1069', 'sexism2022_english-18782', 'sexism2022_english-2013', 'sexism2022_english-6417', 'sexism2022_english-4167', 'sexism2022_english-19842', 'sexism2022_english-6159', 'sexism2022_english-9733', 'sexism2022_english-12463', 'sexism2022_english-3906', 'sexism2022_english-5216', 'sexism2022_english-12613', 'sexism2022_english-17748', 'sexism2022_english-2961', 'sexism2022_english-1028', 'sexism2022_english-2285', 'sexism2022_english-8980', 'sexism2022_english-387', 'sexism2022_english-12964', 'sexism2022_english-16942', 'sexism2022_english-13064', 'sexism2022_english-16424', 'sexism2022_english-15538', 'sexism2022_english-11781', 'sexism2022_english-9474', 'sexism2022_english-5723', 'sexism2022_english-9045', 'sexism2022_english-6034', 'sexism2022_english-19008', 'sexism2022_english-7497', 'sexism2022_english-3080', 'sexism2022_english-8221', 'sexism2022_english-17485', 'sexism2022_english-5966', 'sexism2022_english-9351', 'sexism2022_english-15648', 'sexism2022_english-1441', 'sexism2022_english-5423', 'sexism2022_english-965', 'sexism2022_english-648', 'sexism2022_english-4559', 'sexism2022_english-15685', 'sexism2022_english-5166', 'sexism2022_english-6157', 'sexism2022_english-16461', 'sexism2022_english-6388', 'sexism2022_english-10938', 'sexism2022_english-9561']\n",
            "Nombre d'entrées non matchées : 60\n"
          ]
        }
      ],
      "source": [
        "liste_unmatched_Csexist=[]\n",
        "\n",
        "# Motif regex le plus large (insultes, termes péjoratifs et termes génériques)\n",
        "patternGeneral = r'\\b(?!(?:man|men)\\b)(she|her|\\w*wh?[oayi]mm?[eayi]n?[sz]?|wi[vf]es?|girls?|lad[yi]e?s?|daughters?|sisters?|girlfriends?|aunti?e?s?|grandmothers?|mothers?|m[ou]mm?[iy]?e?s?|females?|feminine|puss[yi]?e?s?|\\wiy?a?tche?s?y?(ing)?(tard)?|cunts?|whores?(dom)?(llywood)?|sluts?t?y?(iness)?|hoe?s?|slags?|metoo|femininity|feminis[mt]s?|(trad)?e?thots?(life)?(dom)?(ism)?|femoids?|harp[yi]e?s?|twats?|spinsters?|tranny|chicks?|roa?sties?|stac[y|i]e?s?|[v|h]ags?|vaginas?|(noodle)?foids?|feminazis?|d[yi]kes?|gals?|skanks?|gold digg(er)?(ing)?s?|bi--th)\\b'\n",
        "\n",
        "#Regex pour conserver la reférence de l'entrée\n",
        "patternID = r'\\b(sexism2022_english-\\d+)\\b'\n",
        "\n",
        "# Compiler les regex (avec l'option d'insensibilité à la casse pour le motif général)\n",
        "regexGeneral = re.compile(patternGeneral, re.IGNORECASE)\n",
        "regexID = re.compile(patternID)\n",
        "\n",
        "# Vérification de la présence d'au moins un terme de la regex générale dans le corpus sexiste\n",
        "nbr_entrees_sexist=0\n",
        "nbr_entrees_matchs=0\n",
        "with open(\"non_labelled_sexist.csv\", \"r\", encoding=\"utf-8\") as f_in_sexist:\n",
        "    for index,line in enumerate(f_in_sexist, start=1):\n",
        "        if index>=2:\n",
        "            nbr_entrees_sexist+=1\n",
        "            # Trouver toutes les correspondances et les compter\n",
        "            matches = regexGeneral.findall(line)\n",
        "            if len(matches) > 0:\n",
        "                nbr_entrees_matchs+=1\n",
        "            # On récupére les id des entrées non matchées\n",
        "            else:\n",
        "                unmatches = regexID.findall(line)\n",
        "                # On peut afficher les entrées ne contenant pas de correspondances avec la regex actuelle afin de rajouter des termes sexistes repérables\n",
        "                #print(line)\n",
        "                liste_unmatched_Csexist.append(unmatches[0])\n",
        "\n",
        "print(\"Nombre d'entrées contenant au moins un terme de la regex :\", nbr_entrees_matchs, \"sur \", nbr_entrees_sexist,\". On a donc réussi à matcher\", nbr_entrees_matchs/nbr_entrees_sexist*100, \"% des entrées sexistes avec cette regex.\")\n",
        "\n",
        "# Nous conservons les id des entrées non matchées pour pouvoir les étudier par la suite\n",
        "print(\"Les id des entrées non matchées sont :\", liste_unmatched_Csexist)\n",
        "print(\"Nombre d'entrées non matchées :\", len(liste_unmatched_Csexist))\n"
      ]
    },
    {
      "cell_type": "markdown",
      "metadata": {
        "id": "mLpF8l7cO0jQ"
      },
      "source": [
        "On a donc une très bonne converture. Cependant, cette regex prend en compte n'importe quelle mention d'une personne féminine, peu importe la polarité de l'entrée.\n",
        "Pour vérifier si elle peut tout de même être pertinente, nous allons la tester sur le corpus non sexiste."
      ]
    },
    {
      "cell_type": "code",
      "execution_count": 28,
      "metadata": {
        "id": "Uu66vHEVO0jQ",
        "outputId": "eba0996a-8fb6-4f51-c04b-3fc218b2ac43"
      },
      "outputs": [
        {
          "name": "stdout",
          "output_type": "stream",
          "text": [
            "Nombre d'entrées contenant au moins un terme de la regex : 13057 sur 15146 . Cette regex matche donc également 86.20757955895945 % des entrées non sexistes.\n"
          ]
        }
      ],
      "source": [
        "nbr_entrees_nonsexist=0\n",
        "nbr_entrees_matchs=0\n",
        "with open(\"non_labelled_nonsexist.csv\", \"r\", encoding=\"utf-8\") as f_in_nonsexist:\n",
        "    for index,line in enumerate(f_in_nonsexist, start=1):\n",
        "        if index>=2:\n",
        "            nbr_entrees_nonsexist+=1\n",
        "            matches = regexGeneral.findall(line)\n",
        "            if len(matches) > 0:\n",
        "                nbr_entrees_matchs+=1\n",
        "\n",
        "print(\"Nombre d'entrées contenant au moins un terme de la regex :\", nbr_entrees_matchs, \"sur\", nbr_entrees_nonsexist,\". Cette regex matche donc également\", nbr_entrees_matchs/nbr_entrees_nonsexist*100, \"% des entrées non sexistes.\")"
      ]
    },
    {
      "cell_type": "markdown",
      "metadata": {
        "id": "JHobYyE6O0jR"
      },
      "source": [
        "Même si l'on remarque une différence d'environ 13 points entre les 2 corpus, on voit que notre regex est bien trop large puisqu'elle matche une très grande majorité du corpus non sexiste, à cause notamment de la présence de termes génériques comme \"she\" et \"her\" par exemple. Nous allons donc tenter d'affiner celle-ci en ne retenant que les termes sexistes ou faisant référence au féminisme.\n",
        "\n",
        "Cette regex \"Insults\" a été définie en retenant les insultes à proprement parler, les mentions de feminisme, féminité ou des féministes, ainsi que les variations orthographiques du terme \"woman\" ou \"women\" (mais sans leur version correctement orthographiées) puisque c'est une technique régulièrement utilisée sur les réseaux sociaux pour parler d'une population de manière discriminante tout en étant plus difficilement repérable par les modérateur.ice.s des sites."
      ]
    },
    {
      "cell_type": "code",
      "execution_count": 31,
      "metadata": {
        "id": "wQLdvrdSO0jS",
        "outputId": "c25fe5fa-1eea-4df7-b527-43acbab08f28"
      },
      "outputs": [
        {
          "name": "stdout",
          "output_type": "stream",
          "text": [
            "Nombre d'entrées contenant au moins un terme de la regex : 2444 sur 4854 . On a donc réussi à matcher 50.3502266172229 % des entrées sexistes avec cette regex plus précise.\n"
          ]
        }
      ],
      "source": [
        "liste_unmatched_insults_Csexist=[]\n",
        "\n",
        "# Motif regex avec les insultes et mention du féminisme\n",
        "patternInsults= r'\\b(?!(?:wo)?man\\b|men\\b|women\\b)(wh?[oai]mm?[eayi]*n?[sz]?|females?|puss[yi]?e?s?|cunts?|\\wiy?a?tche?y?s?(ing)?(tard)?|whores?(dom)?(llywood)?|sluts?t?y?(iness)?|hoe?s?|slags?|metoo|femininity|feminis[mt]s?|feminine|e?(trad)?thots?(life)?(ism)?|femoids?|harp[yi]e?s?|twats?|spinsters?|tranny|chicks?|roa?sties?|stac[yi]e?s?|[vh]ags?|vaginas?|(noodle)?foids?|feminazis?|d[yi]kes?|gals?|skanks?|gold digg(er)?(ing)?s?|bi--th|slutty)\\b'\n",
        "regexInsults = re.compile(patternInsults, re.IGNORECASE)\n",
        "\n",
        "# Vérification de la présence d'au moins un terme insultant dans les entrées sexistes\n",
        "nbr_entrees_matchs=0\n",
        "with open(\"non_labelled_sexist.csv\", \"r\", encoding=\"utf-8\") as f_in_sexist:\n",
        "    for index,line in enumerate(f_in_sexist, start=1):\n",
        "        if index>=2:\n",
        "            matches = regexInsults.findall(line)\n",
        "            if len(matches) > 0:\n",
        "                nbr_entrees_matchs+=1\n",
        "\n",
        "print(\"Nombre d'entrées contenant au moins un terme de la regex :\", nbr_entrees_matchs, \"sur\", nbr_entrees_sexist,\". On a donc réussi à matcher\", nbr_entrees_matchs/nbr_entrees_sexist*100, \"% des entrées sexistes avec cette regex plus précise.\")\n"
      ]
    },
    {
      "cell_type": "markdown",
      "metadata": {
        "id": "WJTSTGQOO0jT"
      },
      "source": [
        "On perd près de 50 points par rapport à la regex générale. Comparons cependant cette nouvelle regex avec le corpus non sexiste."
      ]
    },
    {
      "cell_type": "code",
      "execution_count": 32,
      "metadata": {
        "id": "wrAzezMQO0jU",
        "outputId": "34fb19c5-c7e1-42f0-e6ae-d4b45c787936"
      },
      "outputs": [
        {
          "name": "stdout",
          "output_type": "stream",
          "text": [
            "Nombre d'entrées contenant au moins un terme de la regex : 1242 sur 15146 . Cette regex matche donc également 8.200184867291695 % des entrées non sexistes.\n"
          ]
        }
      ],
      "source": [
        "# Vérification de la présence d'au moins un terme insultant dans les entrées non sexistes\n",
        "nbr_entrees_matchs=0\n",
        "with open(\"non_labelled_nonsexist.csv\", \"r\", encoding=\"utf-8\") as f_in_nonsexist:\n",
        "    for index,line in enumerate(f_in_nonsexist, start=1):\n",
        "        if index>=2:\n",
        "            matches = regexInsults.findall(line)\n",
        "            if len(matches) > 0:\n",
        "                nbr_entrees_matchs+=1\n",
        "\n",
        "print(\"Nombre d'entrées contenant au moins un terme de la regex :\", nbr_entrees_matchs, \"sur\", nbr_entrees_nonsexist,\". Cette regex matche donc également\", nbr_entrees_matchs/nbr_entrees_nonsexist*100, \"% des entrées non sexistes.\")"
      ]
    },
    {
      "cell_type": "markdown",
      "metadata": {
        "id": "uHX5jXztO0jV"
      },
      "source": [
        "Si l'on retrouve tout de même dans 8% des entrées non sexistes des termes de notre regexInsults, on a réduit de 78 points notre résultat par rapport à la regexGeneral. On peut essayer de diminuer encore ce nombre en enlevant les termes \"feminist(s)\", \"feminism\", \"metoo\", \"feminine\", \"female(s)\", \"gal(s)\", \"chick(s)\", \"vagina(s)\" et \"femininity\" qui ne sont pas des termes insultants en soi, ainsi que l'expression \"witch hunt\", afin d'obtenir une regex très spécifique pour laquelle on serait presque certains que la présence d'un des termes de celle-ci dans une entrée la classe automatiquement comme une entrée sexiste."
      ]
    },
    {
      "cell_type": "code",
      "execution_count": 33,
      "metadata": {
        "id": "rqecGdIvO0jV",
        "outputId": "8493e33e-56f4-44a1-e347-ad54c050b28e"
      },
      "outputs": [
        {
          "name": "stdout",
          "output_type": "stream",
          "text": [
            "Nombre d'entrées contenant au moins un terme de la regex : 257 sur 15146 . Cette regex matche également 1.6968176416215501 % des entrées non sexistes.\n"
          ]
        }
      ],
      "source": [
        "# Création de notre regex la plus spécifique\n",
        "patternInsultsSpe= r'\\b(?!(?:wo)?man\\b|men\\b|women\\b|witch[-\\s]hunts?\\b)(wh?[oaiy]mm?[eayi]*n?[sz]?|puss[yi]?e?s?|cunts?|\\wiy?a?tche?y?s?(ing)?(tard)?|whores?(dom)?(llywood)?|slut(tiness)?s?(ting)?|hoe?s?|slags?|(trad)?e?thots?(ism)?(dom)?(life)?|femoids?|harp[yi]e?s?|twats?|spinsters?|tranny|roa?sties?|stac[yi]e?s?|[vh]ags?|(noodle)?foids?|feminazis?|d[yi]kes?|skanks?|gold digg(er)?s?|bi--th|slutty)\\b'\n",
        "regexInsultsSpe = re.compile(patternInsultsSpe, re.IGNORECASE)\n",
        "\n",
        "nbr_entrees_matchs=0\n",
        "with open(\"non_labelled_nonsexist.csv\", \"r\", encoding=\"utf-8\") as f_in_nonsexist:\n",
        "    for index,line in enumerate(f_in_nonsexist, start=1):\n",
        "        if index>=2:\n",
        "            matches = regexInsultsSpe.findall(line)\n",
        "            if len(matches) > 0:\n",
        "                nbr_entrees_matchs+=1\n",
        "\n",
        "\n",
        "print(\"Nombre d'entrées contenant au moins un terme de la regex :\", nbr_entrees_matchs, \"sur\", nbr_entrees_nonsexist,\". Cette regex matche également\", nbr_entrees_matchs/nbr_entrees_nonsexist*100, \"% des entrées non sexistes.\")"
      ]
    },
    {
      "cell_type": "markdown",
      "metadata": {
        "id": "5G5WbaWiO0jW"
      },
      "source": [
        "Notre regexInsultSpe semble donner assez peu de faux positif. Vérifions cependant la quantité d'entrées sexistes contenant au moins un mot de notre regexInsultsSpe afin d'observer si on obtiendrait beaucoup de faux négatifs avec seulement cette méthode.\n",
        "\n"
      ]
    },
    {
      "cell_type": "code",
      "execution_count": 34,
      "metadata": {
        "id": "mN1_mFAHO0jW",
        "outputId": "2aa471c6-42ff-4b1a-938a-e71fa0080d4d"
      },
      "outputs": [
        {
          "name": "stdout",
          "output_type": "stream",
          "text": [
            "Nombre d'entrées contenant au moins un terme de la regex : 1933 sur 4854 . On a donc réussi à matcher 39.82282653481665 % des entrées sexistes avec notre regex la plus précise.\n",
            "Les id des entrées non matchées avec notre regex la plus spécifique sont : ['sexism2022_english-7228', 'sexism2022_english-3553', 'sexism2022_english-14992', 'sexism2022_english-7260', 'sexism2022_english-6629', 'sexism2022_english-7022', 'sexism2022_english-10268', 'sexism2022_english-12319', 'sexism2022_english-5581', 'sexism2022_english-2771', 'sexism2022_english-19849', 'sexism2022_english-15676', 'sexism2022_english-9087', 'sexism2022_english-15184', 'sexism2022_english-18377', 'sexism2022_english-13992', 'sexism2022_english-14297', 'sexism2022_english-704', 'sexism2022_english-11647', 'sexism2022_english-8721', 'sexism2022_english-11296', 'sexism2022_english-15860', 'sexism2022_english-8476', 'sexism2022_english-3673', 'sexism2022_english-13224', 'sexism2022_english-12662', 'sexism2022_english-9301', 'sexism2022_english-16284', 'sexism2022_english-18155', 'sexism2022_english-12531', 'sexism2022_english-2204', 'sexism2022_english-3312', 'sexism2022_english-15543', 'sexism2022_english-10558', 'sexism2022_english-8690', 'sexism2022_english-4996', 'sexism2022_english-8459', 'sexism2022_english-12267', 'sexism2022_english-13461', 'sexism2022_english-9502', 'sexism2022_english-14596', 'sexism2022_english-8159', 'sexism2022_english-13544', 'sexism2022_english-10706', 'sexism2022_english-2524', 'sexism2022_english-10418', 'sexism2022_english-15337', 'sexism2022_english-10894', 'sexism2022_english-8227', 'sexism2022_english-7647', 'sexism2022_english-14810', 'sexism2022_english-16248', 'sexism2022_english-14084', 'sexism2022_english-16640', 'sexism2022_english-2740', 'sexism2022_english-14477', 'sexism2022_english-8889', 'sexism2022_english-3051', 'sexism2022_english-14492', 'sexism2022_english-14674', 'sexism2022_english-17358', 'sexism2022_english-7983', 'sexism2022_english-6689', 'sexism2022_english-8859', 'sexism2022_english-15257', 'sexism2022_english-6195', 'sexism2022_english-4903', 'sexism2022_english-4332', 'sexism2022_english-3364', 'sexism2022_english-3739', 'sexism2022_english-625', 'sexism2022_english-11782', 'sexism2022_english-12724', 'sexism2022_english-14451', 'sexism2022_english-6819', 'sexism2022_english-4886', 'sexism2022_english-14409', 'sexism2022_english-3611', 'sexism2022_english-6448', 'sexism2022_english-9104', 'sexism2022_english-1397', 'sexism2022_english-17113', 'sexism2022_english-17963', 'sexism2022_english-16274', 'sexism2022_english-9795', 'sexism2022_english-18919', 'sexism2022_english-5213', 'sexism2022_english-12467', 'sexism2022_english-7614', 'sexism2022_english-14766', 'sexism2022_english-1601', 'sexism2022_english-19401', 'sexism2022_english-16502', 'sexism2022_english-18610', 'sexism2022_english-13939', 'sexism2022_english-19187', 'sexism2022_english-11952', 'sexism2022_english-9283', 'sexism2022_english-1395', 'sexism2022_english-7938', 'sexism2022_english-4084', 'sexism2022_english-8248', 'sexism2022_english-7239', 'sexism2022_english-3525', 'sexism2022_english-13884', 'sexism2022_english-457', 'sexism2022_english-12470', 'sexism2022_english-1227', 'sexism2022_english-14199', 'sexism2022_english-8729', 'sexism2022_english-3666', 'sexism2022_english-11614', 'sexism2022_english-9477', 'sexism2022_english-12602', 'sexism2022_english-7701', 'sexism2022_english-17420', 'sexism2022_english-5287', 'sexism2022_english-16262', 'sexism2022_english-3564', 'sexism2022_english-17781', 'sexism2022_english-571', 'sexism2022_english-6557', 'sexism2022_english-6304', 'sexism2022_english-16370', 'sexism2022_english-16299', 'sexism2022_english-15383', 'sexism2022_english-10646', 'sexism2022_english-14500', 'sexism2022_english-3584', 'sexism2022_english-12554', 'sexism2022_english-19016', 'sexism2022_english-766', 'sexism2022_english-12860', 'sexism2022_english-18058', 'sexism2022_english-3734', 'sexism2022_english-12386', 'sexism2022_english-7492', 'sexism2022_english-3429', 'sexism2022_english-1440', 'sexism2022_english-2757', 'sexism2022_english-18483', 'sexism2022_english-2688', 'sexism2022_english-12094', 'sexism2022_english-8595', 'sexism2022_english-10032', 'sexism2022_english-2378', 'sexism2022_english-9179', 'sexism2022_english-5291', 'sexism2022_english-14844', 'sexism2022_english-2392', 'sexism2022_english-8311', 'sexism2022_english-1853', 'sexism2022_english-4183', 'sexism2022_english-10895', 'sexism2022_english-17308', 'sexism2022_english-1907', 'sexism2022_english-4894', 'sexism2022_english-4429', 'sexism2022_english-6503', 'sexism2022_english-13828', 'sexism2022_english-5064', 'sexism2022_english-486', 'sexism2022_english-18773', 'sexism2022_english-16728', 'sexism2022_english-828', 'sexism2022_english-19281', 'sexism2022_english-7285', 'sexism2022_english-10164', 'sexism2022_english-16588', 'sexism2022_english-2388', 'sexism2022_english-19888', 'sexism2022_english-10237', 'sexism2022_english-9279', 'sexism2022_english-14677', 'sexism2022_english-7734', 'sexism2022_english-19698', 'sexism2022_english-15983', 'sexism2022_english-18354', 'sexism2022_english-4947', 'sexism2022_english-17101', 'sexism2022_english-17645', 'sexism2022_english-12468', 'sexism2022_english-13706', 'sexism2022_english-4359', 'sexism2022_english-2550', 'sexism2022_english-17601', 'sexism2022_english-19722', 'sexism2022_english-19449', 'sexism2022_english-19883', 'sexism2022_english-16626', 'sexism2022_english-4322', 'sexism2022_english-16812', 'sexism2022_english-3229', 'sexism2022_english-1852', 'sexism2022_english-195', 'sexism2022_english-12330', 'sexism2022_english-808', 'sexism2022_english-14814', 'sexism2022_english-4707', 'sexism2022_english-18904', 'sexism2022_english-13439', 'sexism2022_english-2678', 'sexism2022_english-12024', 'sexism2022_english-15329', 'sexism2022_english-2098', 'sexism2022_english-17071', 'sexism2022_english-18255', 'sexism2022_english-3765', 'sexism2022_english-9041', 'sexism2022_english-16991', 'sexism2022_english-17968', 'sexism2022_english-12361', 'sexism2022_english-11744', 'sexism2022_english-5433', 'sexism2022_english-5884', 'sexism2022_english-8098', 'sexism2022_english-14417', 'sexism2022_english-18163', 'sexism2022_english-6327', 'sexism2022_english-14370', 'sexism2022_english-4392', 'sexism2022_english-2930', 'sexism2022_english-18444', 'sexism2022_english-758', 'sexism2022_english-16098', 'sexism2022_english-16706', 'sexism2022_english-5733', 'sexism2022_english-5992', 'sexism2022_english-6263', 'sexism2022_english-19801', 'sexism2022_english-605', 'sexism2022_english-11447', 'sexism2022_english-12406', 'sexism2022_english-10155', 'sexism2022_english-2627', 'sexism2022_english-13282', 'sexism2022_english-18020', 'sexism2022_english-10099', 'sexism2022_english-9285', 'sexism2022_english-2344', 'sexism2022_english-15343', 'sexism2022_english-12097', 'sexism2022_english-10908', 'sexism2022_english-9907', 'sexism2022_english-1917', 'sexism2022_english-953', 'sexism2022_english-5147', 'sexism2022_english-9422', 'sexism2022_english-9281', 'sexism2022_english-5669', 'sexism2022_english-8155', 'sexism2022_english-17355', 'sexism2022_english-4309', 'sexism2022_english-3416', 'sexism2022_english-16495', 'sexism2022_english-2303', 'sexism2022_english-13206', 'sexism2022_english-4079', 'sexism2022_english-1944', 'sexism2022_english-2666', 'sexism2022_english-10994', 'sexism2022_english-6691', 'sexism2022_english-19746', 'sexism2022_english-19167', 'sexism2022_english-4634', 'sexism2022_english-1839', 'sexism2022_english-5546', 'sexism2022_english-19591', 'sexism2022_english-9590', 'sexism2022_english-2101', 'sexism2022_english-2217', 'sexism2022_english-4602', 'sexism2022_english-3880', 'sexism2022_english-5008', 'sexism2022_english-18908', 'sexism2022_english-9109', 'sexism2022_english-17393', 'sexism2022_english-11978', 'sexism2022_english-16166', 'sexism2022_english-8272', 'sexism2022_english-11122', 'sexism2022_english-865', 'sexism2022_english-4006', 'sexism2022_english-1820', 'sexism2022_english-14163', 'sexism2022_english-6059', 'sexism2022_english-7055', 'sexism2022_english-501', 'sexism2022_english-12048', 'sexism2022_english-874', 'sexism2022_english-15745', 'sexism2022_english-977', 'sexism2022_english-10429', 'sexism2022_english-5209', 'sexism2022_english-19550', 'sexism2022_english-2520', 'sexism2022_english-10059', 'sexism2022_english-328', 'sexism2022_english-9291', 'sexism2022_english-4943', 'sexism2022_english-1762', 'sexism2022_english-11675', 'sexism2022_english-15596', 'sexism2022_english-466', 'sexism2022_english-4159', 'sexism2022_english-4854', 'sexism2022_english-2318', 'sexism2022_english-13102', 'sexism2022_english-11098', 'sexism2022_english-9349', 'sexism2022_english-12312', 'sexism2022_english-17049', 'sexism2022_english-19554', 'sexism2022_english-12866', 'sexism2022_english-11329', 'sexism2022_english-15195', 'sexism2022_english-6600', 'sexism2022_english-9180', 'sexism2022_english-9701', 'sexism2022_english-13564', 'sexism2022_english-13117', 'sexism2022_english-2506', 'sexism2022_english-7385', 'sexism2022_english-15497', 'sexism2022_english-7695', 'sexism2022_english-13098', 'sexism2022_english-8977', 'sexism2022_english-1013', 'sexism2022_english-18679', 'sexism2022_english-12683', 'sexism2022_english-12537', 'sexism2022_english-5945', 'sexism2022_english-13808', 'sexism2022_english-264', 'sexism2022_english-2756', 'sexism2022_english-8957', 'sexism2022_english-7934', 'sexism2022_english-6235', 'sexism2022_english-14916', 'sexism2022_english-15026', 'sexism2022_english-12190', 'sexism2022_english-13379', 'sexism2022_english-421', 'sexism2022_english-1484', 'sexism2022_english-16764', 'sexism2022_english-7642', 'sexism2022_english-9736', 'sexism2022_english-16566', 'sexism2022_english-6738', 'sexism2022_english-5994', 'sexism2022_english-17397', 'sexism2022_english-16217', 'sexism2022_english-1091', 'sexism2022_english-16073', 'sexism2022_english-10168', 'sexism2022_english-11510', 'sexism2022_english-18539', 'sexism2022_english-10722', 'sexism2022_english-19349', 'sexism2022_english-8431', 'sexism2022_english-19219', 'sexism2022_english-17446', 'sexism2022_english-5168', 'sexism2022_english-10318', 'sexism2022_english-9869', 'sexism2022_english-17371', 'sexism2022_english-7129', 'sexism2022_english-12087', 'sexism2022_english-16089', 'sexism2022_english-10763', 'sexism2022_english-1300', 'sexism2022_english-15196', 'sexism2022_english-18495', 'sexism2022_english-4595', 'sexism2022_english-17307', 'sexism2022_english-944', 'sexism2022_english-8022', 'sexism2022_english-3037', 'sexism2022_english-12491', 'sexism2022_english-16141', 'sexism2022_english-16340', 'sexism2022_english-3695', 'sexism2022_english-19589', 'sexism2022_english-8895', 'sexism2022_english-12959', 'sexism2022_english-19025', 'sexism2022_english-18914', 'sexism2022_english-7413', 'sexism2022_english-7543', 'sexism2022_english-9210', 'sexism2022_english-8739', 'sexism2022_english-10267', 'sexism2022_english-6206', 'sexism2022_english-15221', 'sexism2022_english-1653', 'sexism2022_english-9849', 'sexism2022_english-4056', 'sexism2022_english-16219', 'sexism2022_english-5795', 'sexism2022_english-4238', 'sexism2022_english-146', 'sexism2022_english-14726', 'sexism2022_english-5802', 'sexism2022_english-14743', 'sexism2022_english-18449', 'sexism2022_english-7199', 'sexism2022_english-19239', 'sexism2022_english-18994', 'sexism2022_english-9132', 'sexism2022_english-7947', 'sexism2022_english-12573', 'sexism2022_english-9533', 'sexism2022_english-18713', 'sexism2022_english-1166', 'sexism2022_english-19927', 'sexism2022_english-11552', 'sexism2022_english-4646', 'sexism2022_english-5676', 'sexism2022_english-1625', 'sexism2022_english-16536', 'sexism2022_english-12730', 'sexism2022_english-8735', 'sexism2022_english-1500', 'sexism2022_english-14566', 'sexism2022_english-4450', 'sexism2022_english-16871', 'sexism2022_english-12317', 'sexism2022_english-4065', 'sexism2022_english-5767', 'sexism2022_english-6518', 'sexism2022_english-17249', 'sexism2022_english-19493', 'sexism2022_english-13683', 'sexism2022_english-14293', 'sexism2022_english-19966', 'sexism2022_english-19011', 'sexism2022_english-4857', 'sexism2022_english-9393', 'sexism2022_english-1632', 'sexism2022_english-5253', 'sexism2022_english-7272', 'sexism2022_english-2436', 'sexism2022_english-16937', 'sexism2022_english-7717', 'sexism2022_english-11285', 'sexism2022_english-5398', 'sexism2022_english-16129', 'sexism2022_english-10176', 'sexism2022_english-10355', 'sexism2022_english-12787', 'sexism2022_english-926', 'sexism2022_english-11519', 'sexism2022_english-2525', 'sexism2022_english-16590', 'sexism2022_english-11968', 'sexism2022_english-7005', 'sexism2022_english-10231', 'sexism2022_english-10343', 'sexism2022_english-5283', 'sexism2022_english-18585', 'sexism2022_english-6994', 'sexism2022_english-18800', 'sexism2022_english-7096', 'sexism2022_english-9850', 'sexism2022_english-339', 'sexism2022_english-6881', 'sexism2022_english-8914', 'sexism2022_english-5710', 'sexism2022_english-8890', 'sexism2022_english-9394', 'sexism2022_english-19944', 'sexism2022_english-14753', 'sexism2022_english-14354', 'sexism2022_english-6732', 'sexism2022_english-12768', 'sexism2022_english-16769', 'sexism2022_english-5900', 'sexism2022_english-18437', 'sexism2022_english-18261', 'sexism2022_english-12083', 'sexism2022_english-17835', 'sexism2022_english-10026', 'sexism2022_english-5552', 'sexism2022_english-5747', 'sexism2022_english-5914', 'sexism2022_english-16414', 'sexism2022_english-19918', 'sexism2022_english-17031', 'sexism2022_english-19729', 'sexism2022_english-11844', 'sexism2022_english-19735', 'sexism2022_english-17796', 'sexism2022_english-682', 'sexism2022_english-1502', 'sexism2022_english-778', 'sexism2022_english-18733', 'sexism2022_english-8465', 'sexism2022_english-19543', 'sexism2022_english-546', 'sexism2022_english-14221', 'sexism2022_english-6258', 'sexism2022_english-14034', 'sexism2022_english-6874', 'sexism2022_english-4813', 'sexism2022_english-18245', 'sexism2022_english-13599', 'sexism2022_english-15350', 'sexism2022_english-16034', 'sexism2022_english-16522', 'sexism2022_english-4075', 'sexism2022_english-7046', 'sexism2022_english-12528', 'sexism2022_english-16162', 'sexism2022_english-19885', 'sexism2022_english-10070', 'sexism2022_english-9648', 'sexism2022_english-11224', 'sexism2022_english-2517', 'sexism2022_english-14228', 'sexism2022_english-14178', 'sexism2022_english-11763', 'sexism2022_english-1669', 'sexism2022_english-10708', 'sexism2022_english-19029', 'sexism2022_english-4348', 'sexism2022_english-19438', 'sexism2022_english-14829', 'sexism2022_english-17712', 'sexism2022_english-7106', 'sexism2022_english-10522', 'sexism2022_english-12786', 'sexism2022_english-11502', 'sexism2022_english-6979', 'sexism2022_english-11417', 'sexism2022_english-6607', 'sexism2022_english-12657', 'sexism2022_english-10013', 'sexism2022_english-8318', 'sexism2022_english-960', 'sexism2022_english-11162', 'sexism2022_english-4781', 'sexism2022_english-969', 'sexism2022_english-1687', 'sexism2022_english-19528', 'sexism2022_english-14933', 'sexism2022_english-11704', 'sexism2022_english-9670', 'sexism2022_english-19641', 'sexism2022_english-13460', 'sexism2022_english-5467', 'sexism2022_english-1992', 'sexism2022_english-7078', 'sexism2022_english-12939', 'sexism2022_english-11266', 'sexism2022_english-4853', 'sexism2022_english-3886', 'sexism2022_english-12592', 'sexism2022_english-16227', 'sexism2022_english-11957', 'sexism2022_english-15108', 'sexism2022_english-16881', 'sexism2022_english-17807', 'sexism2022_english-19343', 'sexism2022_english-6496', 'sexism2022_english-10813', 'sexism2022_english-369', 'sexism2022_english-12988', 'sexism2022_english-18056', 'sexism2022_english-6186', 'sexism2022_english-5750', 'sexism2022_english-8298', 'sexism2022_english-15331', 'sexism2022_english-10304', 'sexism2022_english-3573', 'sexism2022_english-7389', 'sexism2022_english-13632', 'sexism2022_english-10130', 'sexism2022_english-4909', 'sexism2022_english-18230', 'sexism2022_english-4466', 'sexism2022_english-2404', 'sexism2022_english-5174', 'sexism2022_english-17431', 'sexism2022_english-10769', 'sexism2022_english-5572', 'sexism2022_english-1069', 'sexism2022_english-9265', 'sexism2022_english-12608', 'sexism2022_english-18782', 'sexism2022_english-12210', 'sexism2022_english-17373', 'sexism2022_english-3786', 'sexism2022_english-14325', 'sexism2022_english-11106', 'sexism2022_english-12996', 'sexism2022_english-8702', 'sexism2022_english-9724', 'sexism2022_english-3078', 'sexism2022_english-5790', 'sexism2022_english-19708', 'sexism2022_english-2775', 'sexism2022_english-19919', 'sexism2022_english-11432', 'sexism2022_english-10269', 'sexism2022_english-18637', 'sexism2022_english-1611', 'sexism2022_english-628', 'sexism2022_english-15107', 'sexism2022_english-1513', 'sexism2022_english-17073', 'sexism2022_english-6562', 'sexism2022_english-18682', 'sexism2022_english-6542', 'sexism2022_english-13441', 'sexism2022_english-16012', 'sexism2022_english-2934', 'sexism2022_english-10901', 'sexism2022_english-4162', 'sexism2022_english-15695', 'sexism2022_english-3602', 'sexism2022_english-17964', 'sexism2022_english-12388', 'sexism2022_english-10552', 'sexism2022_english-7888', 'sexism2022_english-19758', 'sexism2022_english-17720', 'sexism2022_english-18547', 'sexism2022_english-11855', 'sexism2022_english-1723', 'sexism2022_english-4744', 'sexism2022_english-8544', 'sexism2022_english-4654', 'sexism2022_english-14648', 'sexism2022_english-11850', 'sexism2022_english-9821', 'sexism2022_english-10367', 'sexism2022_english-16324', 'sexism2022_english-18560', 'sexism2022_english-1359', 'sexism2022_english-2383', 'sexism2022_english-11580', 'sexism2022_english-2026', 'sexism2022_english-4608', 'sexism2022_english-17301', 'sexism2022_english-18109', 'sexism2022_english-16144', 'sexism2022_english-7265', 'sexism2022_english-6553', 'sexism2022_english-12440', 'sexism2022_english-13914', 'sexism2022_english-12307', 'sexism2022_english-13577', 'sexism2022_english-3548', 'sexism2022_english-14193', 'sexism2022_english-2599', 'sexism2022_english-12508', 'sexism2022_english-2793', 'sexism2022_english-2411', 'sexism2022_english-3026', 'sexism2022_english-17002', 'sexism2022_english-12863', 'sexism2022_english-7431', 'sexism2022_english-7944', 'sexism2022_english-2510', 'sexism2022_english-12620', 'sexism2022_english-12390', 'sexism2022_english-13510', 'sexism2022_english-821', 'sexism2022_english-3122', 'sexism2022_english-7118', 'sexism2022_english-14203', 'sexism2022_english-10684', 'sexism2022_english-18040', 'sexism2022_english-19308', 'sexism2022_english-3449', 'sexism2022_english-19157', 'sexism2022_english-16228', 'sexism2022_english-12852', 'sexism2022_english-12767', 'sexism2022_english-12709', 'sexism2022_english-17662', 'sexism2022_english-15665', 'sexism2022_english-7134', 'sexism2022_english-14310', 'sexism2022_english-15326', 'sexism2022_english-11410', 'sexism2022_english-6755', 'sexism2022_english-1579', 'sexism2022_english-18189', 'sexism2022_english-13864', 'sexism2022_english-18992', 'sexism2022_english-10275', 'sexism2022_english-2790', 'sexism2022_english-609', 'sexism2022_english-9303', 'sexism2022_english-16290', 'sexism2022_english-6976', 'sexism2022_english-18695', 'sexism2022_english-7840', 'sexism2022_english-9169', 'sexism2022_english-13080', 'sexism2022_english-6463', 'sexism2022_english-1116', 'sexism2022_english-16447', 'sexism2022_english-2029', 'sexism2022_english-11569', 'sexism2022_english-17732', 'sexism2022_english-6033', 'sexism2022_english-9218', 'sexism2022_english-15927', 'sexism2022_english-269', 'sexism2022_english-7542', 'sexism2022_english-823', 'sexism2022_english-7950', 'sexism2022_english-10119', 'sexism2022_english-245', 'sexism2022_english-997', 'sexism2022_english-2013', 'sexism2022_english-6417', 'sexism2022_english-6903', 'sexism2022_english-1202', 'sexism2022_english-16873', 'sexism2022_english-9026', 'sexism2022_english-12055', 'sexism2022_english-10320', 'sexism2022_english-3441', 'sexism2022_english-4167', 'sexism2022_english-9822', 'sexism2022_english-909', 'sexism2022_english-10232', 'sexism2022_english-5977', 'sexism2022_english-1657', 'sexism2022_english-13576', 'sexism2022_english-15651', 'sexism2022_english-14468', 'sexism2022_english-3871', 'sexism2022_english-2989', 'sexism2022_english-7010', 'sexism2022_english-39', 'sexism2022_english-11274', 'sexism2022_english-7474', 'sexism2022_english-15667', 'sexism2022_english-374', 'sexism2022_english-19160', 'sexism2022_english-14306', 'sexism2022_english-9359', 'sexism2022_english-2867', 'sexism2022_english-982', 'sexism2022_english-978', 'sexism2022_english-19940', 'sexism2022_english-1736', 'sexism2022_english-4613', 'sexism2022_english-13996', 'sexism2022_english-4250', 'sexism2022_english-8531', 'sexism2022_english-109', 'sexism2022_english-19463', 'sexism2022_english-9551', 'sexism2022_english-12629', 'sexism2022_english-389', 'sexism2022_english-16587', 'sexism2022_english-11834', 'sexism2022_english-18863', 'sexism2022_english-14890', 'sexism2022_english-9686', 'sexism2022_english-12679', 'sexism2022_english-10824', 'sexism2022_english-13279', 'sexism2022_english-16561', 'sexism2022_english-1165', 'sexism2022_english-14547', 'sexism2022_english-15387', 'sexism2022_english-17700', 'sexism2022_english-15869', 'sexism2022_english-7226', 'sexism2022_english-8708', 'sexism2022_english-11026', 'sexism2022_english-17158', 'sexism2022_english-3586', 'sexism2022_english-9476', 'sexism2022_english-14251', 'sexism2022_english-16695', 'sexism2022_english-863', 'sexism2022_english-364', 'sexism2022_english-10219', 'sexism2022_english-11165', 'sexism2022_english-3585', 'sexism2022_english-12431', 'sexism2022_english-19933', 'sexism2022_english-19842', 'sexism2022_english-8273', 'sexism2022_english-14574', 'sexism2022_english-19483', 'sexism2022_english-6807', 'sexism2022_english-16017', 'sexism2022_english-13101', 'sexism2022_english-7176', 'sexism2022_english-16610', 'sexism2022_english-13597', 'sexism2022_english-3956', 'sexism2022_english-6159', 'sexism2022_english-17774', 'sexism2022_english-4895', 'sexism2022_english-19962', 'sexism2022_english-14625', 'sexism2022_english-16558', 'sexism2022_english-8077', 'sexism2022_english-9704', 'sexism2022_english-6995', 'sexism2022_english-18148', 'sexism2022_english-12735', 'sexism2022_english-8117', 'sexism2022_english-16703', 'sexism2022_english-9737', 'sexism2022_english-8688', 'sexism2022_english-5543', 'sexism2022_english-404', 'sexism2022_english-1498', 'sexism2022_english-13942', 'sexism2022_english-3974', 'sexism2022_english-16204', 'sexism2022_english-5084', 'sexism2022_english-8852', 'sexism2022_english-15656', 'sexism2022_english-2304', 'sexism2022_english-13254', 'sexism2022_english-17954', 'sexism2022_english-19443', 'sexism2022_english-12429', 'sexism2022_english-17514', 'sexism2022_english-4981', 'sexism2022_english-13547', 'sexism2022_english-13046', 'sexism2022_english-10571', 'sexism2022_english-262', 'sexism2022_english-9733', 'sexism2022_english-8201', 'sexism2022_english-12205', 'sexism2022_english-9861', 'sexism2022_english-18209', 'sexism2022_english-15429', 'sexism2022_english-14138', 'sexism2022_english-14501', 'sexism2022_english-12845', 'sexism2022_english-15375', 'sexism2022_english-14693', 'sexism2022_english-6369', 'sexism2022_english-7103', 'sexism2022_english-7829', 'sexism2022_english-413', 'sexism2022_english-7599', 'sexism2022_english-17869', 'sexism2022_english-15215', 'sexism2022_english-17199', 'sexism2022_english-13138', 'sexism2022_english-15481', 'sexism2022_english-18400', 'sexism2022_english-19049', 'sexism2022_english-15029', 'sexism2022_english-17759', 'sexism2022_english-15369', 'sexism2022_english-11546', 'sexism2022_english-2643', 'sexism2022_english-15178', 'sexism2022_english-6150', 'sexism2022_english-12418', 'sexism2022_english-5963', 'sexism2022_english-12216', 'sexism2022_english-8137', 'sexism2022_english-1832', 'sexism2022_english-16170', 'sexism2022_english-12888', 'sexism2022_english-15701', 'sexism2022_english-15061', 'sexism2022_english-10360', 'sexism2022_english-3403', 'sexism2022_english-1351', 'sexism2022_english-5183', 'sexism2022_english-5367', 'sexism2022_english-12313', 'sexism2022_english-7741', 'sexism2022_english-13100', 'sexism2022_english-647', 'sexism2022_english-739', 'sexism2022_english-12463', 'sexism2022_english-15128', 'sexism2022_english-7274', 'sexism2022_english-2377', 'sexism2022_english-3906', 'sexism2022_english-11734', 'sexism2022_english-7075', 'sexism2022_english-172', 'sexism2022_english-12800', 'sexism2022_english-223', 'sexism2022_english-8965', 'sexism2022_english-12298', 'sexism2022_english-13269', 'sexism2022_english-18763', 'sexism2022_english-17019', 'sexism2022_english-10929', 'sexism2022_english-2634', 'sexism2022_english-12108', 'sexism2022_english-2667', 'sexism2022_english-10384', 'sexism2022_english-13262', 'sexism2022_english-3149', 'sexism2022_english-6843', 'sexism2022_english-16778', 'sexism2022_english-1816', 'sexism2022_english-17556', 'sexism2022_english-8216', 'sexism2022_english-5864', 'sexism2022_english-10873', 'sexism2022_english-15923', 'sexism2022_english-11845', 'sexism2022_english-5191', 'sexism2022_english-1898', 'sexism2022_english-11989', 'sexism2022_english-11832', 'sexism2022_english-701', 'sexism2022_english-17691', 'sexism2022_english-8451', 'sexism2022_english-1720', 'sexism2022_english-6032', 'sexism2022_english-7351', 'sexism2022_english-6118', 'sexism2022_english-7489', 'sexism2022_english-13637', 'sexism2022_english-4869', 'sexism2022_english-14460', 'sexism2022_english-8434', 'sexism2022_english-15245', 'sexism2022_english-17332', 'sexism2022_english-2874', 'sexism2022_english-1136', 'sexism2022_english-9427', 'sexism2022_english-16723', 'sexism2022_english-19283', 'sexism2022_english-2393', 'sexism2022_english-7873', 'sexism2022_english-1184', 'sexism2022_english-5794', 'sexism2022_english-19026', 'sexism2022_english-10856', 'sexism2022_english-15540', 'sexism2022_english-19621', 'sexism2022_english-12910', 'sexism2022_english-18864', 'sexism2022_english-19351', 'sexism2022_english-6222', 'sexism2022_english-16700', 'sexism2022_english-18054', 'sexism2022_english-10591', 'sexism2022_english-4567', 'sexism2022_english-11048', 'sexism2022_english-6651', 'sexism2022_english-9297', 'sexism2022_english-13047', 'sexism2022_english-5509', 'sexism2022_english-18709', 'sexism2022_english-14482', 'sexism2022_english-5662', 'sexism2022_english-4245', 'sexism2022_english-6071', 'sexism2022_english-12059', 'sexism2022_english-5349', 'sexism2022_english-9136', 'sexism2022_english-8508', 'sexism2022_english-5347', 'sexism2022_english-8551', 'sexism2022_english-1812', 'sexism2022_english-698', 'sexism2022_english-17571', 'sexism2022_english-8733', 'sexism2022_english-14969', 'sexism2022_english-93', 'sexism2022_english-18809', 'sexism2022_english-4883', 'sexism2022_english-8256', 'sexism2022_english-14526', 'sexism2022_english-12345', 'sexism2022_english-5216', 'sexism2022_english-16823', 'sexism2022_english-9878', 'sexism2022_english-7399', 'sexism2022_english-12613', 'sexism2022_english-963', 'sexism2022_english-3305', 'sexism2022_english-17466', 'sexism2022_english-2109', 'sexism2022_english-4870', 'sexism2022_english-14396', 'sexism2022_english-6795', 'sexism2022_english-2581', 'sexism2022_english-10280', 'sexism2022_english-4080', 'sexism2022_english-11732', 'sexism2022_english-16592', 'sexism2022_english-3439', 'sexism2022_english-7523', 'sexism2022_english-12958', 'sexism2022_english-12218', 'sexism2022_english-9798', 'sexism2022_english-251', 'sexism2022_english-5073', 'sexism2022_english-3366', 'sexism2022_english-4281', 'sexism2022_english-1024', 'sexism2022_english-12038', 'sexism2022_english-11613', 'sexism2022_english-3996', 'sexism2022_english-19863', 'sexism2022_english-14511', 'sexism2022_english-9538', 'sexism2022_english-18113', 'sexism2022_english-272', 'sexism2022_english-6566', 'sexism2022_english-7163', 'sexism2022_english-19185', 'sexism2022_english-51', 'sexism2022_english-2486', 'sexism2022_english-9050', 'sexism2022_english-18126', 'sexism2022_english-11241', 'sexism2022_english-14563', 'sexism2022_english-10848', 'sexism2022_english-3068', 'sexism2022_english-14054', 'sexism2022_english-9882', 'sexism2022_english-9938', 'sexism2022_english-7108', 'sexism2022_english-19240', 'sexism2022_english-6126', 'sexism2022_english-4491', 'sexism2022_english-1197', 'sexism2022_english-17108', 'sexism2022_english-1001', 'sexism2022_english-13778', 'sexism2022_english-901', 'sexism2022_english-8534', 'sexism2022_english-7291', 'sexism2022_english-9093', 'sexism2022_english-4221', 'sexism2022_english-18165', 'sexism2022_english-12783', 'sexism2022_english-19131', 'sexism2022_english-3749', 'sexism2022_english-14643', 'sexism2022_english-7860', 'sexism2022_english-1096', 'sexism2022_english-8876', 'sexism2022_english-1604', 'sexism2022_english-338', 'sexism2022_english-11121', 'sexism2022_english-17859', 'sexism2022_english-17748', 'sexism2022_english-13110', 'sexism2022_english-5150', 'sexism2022_english-15192', 'sexism2022_english-13308', 'sexism2022_english-11979', 'sexism2022_english-3972', 'sexism2022_english-4752', 'sexism2022_english-16758', 'sexism2022_english-10606', 'sexism2022_english-9998', 'sexism2022_english-11822', 'sexism2022_english-2470', 'sexism2022_english-15575', 'sexism2022_english-12574', 'sexism2022_english-2961', 'sexism2022_english-2798', 'sexism2022_english-12565', 'sexism2022_english-3266', 'sexism2022_english-14927', 'sexism2022_english-10964', 'sexism2022_english-15239', 'sexism2022_english-11280', 'sexism2022_english-14376', 'sexism2022_english-16743', 'sexism2022_english-19105', 'sexism2022_english-1422', 'sexism2022_english-10797', 'sexism2022_english-10252', 'sexism2022_english-2988', 'sexism2022_english-15418', 'sexism2022_english-3459', 'sexism2022_english-3791', 'sexism2022_english-11583', 'sexism2022_english-14899', 'sexism2022_english-13619', 'sexism2022_english-6366', 'sexism2022_english-8036', 'sexism2022_english-10469', 'sexism2022_english-8464', 'sexism2022_english-4064', 'sexism2022_english-17896', 'sexism2022_english-7311', 'sexism2022_english-11297', 'sexism2022_english-14217', 'sexism2022_english-11154', 'sexism2022_english-2421', 'sexism2022_english-10548', 'sexism2022_english-17622', 'sexism2022_english-14780', 'sexism2022_english-17321', 'sexism2022_english-4035', 'sexism2022_english-16624', 'sexism2022_english-2034', 'sexism2022_english-7774', 'sexism2022_english-12138', 'sexism2022_english-6347', 'sexism2022_english-16545', 'sexism2022_english-17751', 'sexism2022_english-14900', 'sexism2022_english-15504', 'sexism2022_english-1268', 'sexism2022_english-19337', 'sexism2022_english-14278', 'sexism2022_english-9254', 'sexism2022_english-9553', 'sexism2022_english-19616', 'sexism2022_english-4370', 'sexism2022_english-13237', 'sexism2022_english-9165', 'sexism2022_english-11498', 'sexism2022_english-3291', 'sexism2022_english-17392', 'sexism2022_english-4145', 'sexism2022_english-2799', 'sexism2022_english-11692', 'sexism2022_english-7912', 'sexism2022_english-3693', 'sexism2022_english-5881', 'sexism2022_english-7040', 'sexism2022_english-19989', 'sexism2022_english-189', 'sexism2022_english-1735', 'sexism2022_english-13582', 'sexism2022_english-1760', 'sexism2022_english-17359', 'sexism2022_english-17292', 'sexism2022_english-107', 'sexism2022_english-19963', 'sexism2022_english-3885', 'sexism2022_english-8000', 'sexism2022_english-17305', 'sexism2022_english-8992', 'sexism2022_english-6880', 'sexism2022_english-7893', 'sexism2022_english-19017', 'sexism2022_english-1109', 'sexism2022_english-9692', 'sexism2022_english-14682', 'sexism2022_english-3603', 'sexism2022_english-16736', 'sexism2022_english-11481', 'sexism2022_english-10566', 'sexism2022_english-10383', 'sexism2022_english-17197', 'sexism2022_english-14067', 'sexism2022_english-9383', 'sexism2022_english-6076', 'sexism2022_english-2361', 'sexism2022_english-14801', 'sexism2022_english-18724', 'sexism2022_english-2348', 'sexism2022_english-14711', 'sexism2022_english-4820', 'sexism2022_english-14147', 'sexism2022_english-6585', 'sexism2022_english-19305', 'sexism2022_english-6236', 'sexism2022_english-17337', 'sexism2022_english-12700', 'sexism2022_english-8807', 'sexism2022_english-5935', 'sexism2022_english-9829', 'sexism2022_english-9984', 'sexism2022_english-7803', 'sexism2022_english-8197', 'sexism2022_english-13783', 'sexism2022_english-4609', 'sexism2022_english-12446', 'sexism2022_english-18732', 'sexism2022_english-15720', 'sexism2022_english-7002', 'sexism2022_english-5639', 'sexism2022_english-15899', 'sexism2022_english-19996', 'sexism2022_english-14838', 'sexism2022_english-6007', 'sexism2022_english-7949', 'sexism2022_english-15842', 'sexism2022_english-18235', 'sexism2022_english-9314', 'sexism2022_english-18934', 'sexism2022_english-5077', 'sexism2022_english-4575', 'sexism2022_english-9077', 'sexism2022_english-16797', 'sexism2022_english-5404', 'sexism2022_english-6980', 'sexism2022_english-8783', 'sexism2022_english-17469', 'sexism2022_english-14758', 'sexism2022_english-92', 'sexism2022_english-427', 'sexism2022_english-4282', 'sexism2022_english-10028', 'sexism2022_english-10934', 'sexism2022_english-11557', 'sexism2022_english-18429', 'sexism2022_english-9598', 'sexism2022_english-14185', 'sexism2022_english-10990', 'sexism2022_english-11626', 'sexism2022_english-15883', 'sexism2022_english-11746', 'sexism2022_english-15589', 'sexism2022_english-2922', 'sexism2022_english-4965', 'sexism2022_english-8503', 'sexism2022_english-8121', 'sexism2022_english-15180', 'sexism2022_english-1028', 'sexism2022_english-820', 'sexism2022_english-16513', 'sexism2022_english-10497', 'sexism2022_english-7478', 'sexism2022_english-1580', 'sexism2022_english-14716', 'sexism2022_english-638', 'sexism2022_english-11242', 'sexism2022_english-2752', 'sexism2022_english-11215', 'sexism2022_english-2777', 'sexism2022_english-12490', 'sexism2022_english-10489', 'sexism2022_english-10658', 'sexism2022_english-19925', 'sexism2022_english-14031', 'sexism2022_english-2905', 'sexism2022_english-17290', 'sexism2022_english-8398', 'sexism2022_english-17588', 'sexism2022_english-2624', 'sexism2022_english-8246', 'sexism2022_english-2441', 'sexism2022_english-10861', 'sexism2022_english-18406', 'sexism2022_english-2259', 'sexism2022_english-3497', 'sexism2022_english-16908', 'sexism2022_english-11820', 'sexism2022_english-5439', 'sexism2022_english-16292', 'sexism2022_english-18532', 'sexism2022_english-1566', 'sexism2022_english-2285', 'sexism2022_english-19194', 'sexism2022_english-15733', 'sexism2022_english-7135', 'sexism2022_english-7042', 'sexism2022_english-8368', 'sexism2022_english-2883', 'sexism2022_english-8980', 'sexism2022_english-19153', 'sexism2022_english-11758', 'sexism2022_english-19731', 'sexism2022_english-8799', 'sexism2022_english-11284', 'sexism2022_english-13444', 'sexism2022_english-4735', 'sexism2022_english-9395', 'sexism2022_english-12647', 'sexism2022_english-15981', 'sexism2022_english-911', 'sexism2022_english-9430', 'sexism2022_english-10239', 'sexism2022_english-471', 'sexism2022_english-154', 'sexism2022_english-12940', 'sexism2022_english-13560', 'sexism2022_english-324', 'sexism2022_english-7779', 'sexism2022_english-15305', 'sexism2022_english-903', 'sexism2022_english-800', 'sexism2022_english-13500', 'sexism2022_english-16355', 'sexism2022_english-17486', 'sexism2022_english-9684', 'sexism2022_english-5388', 'sexism2022_english-18899', 'sexism2022_english-7438', 'sexism2022_english-19960', 'sexism2022_english-2146', 'sexism2022_english-1140', 'sexism2022_english-3417', 'sexism2022_english-7417', 'sexism2022_english-6209', 'sexism2022_english-5531', 'sexism2022_english-593', 'sexism2022_english-19297', 'sexism2022_english-7377', 'sexism2022_english-12381', 'sexism2022_english-10386', 'sexism2022_english-387', 'sexism2022_english-18715', 'sexism2022_english-12165', 'sexism2022_english-19551', 'sexism2022_english-6264', 'sexism2022_english-7832', 'sexism2022_english-5571', 'sexism2022_english-11503', 'sexism2022_english-2353', 'sexism2022_english-14134', 'sexism2022_english-16501', 'sexism2022_english-17233', 'sexism2022_english-17883', 'sexism2022_english-9426', 'sexism2022_english-18369', 'sexism2022_english-17218', 'sexism2022_english-5538', 'sexism2022_english-6096', 'sexism2022_english-18024', 'sexism2022_english-4558', 'sexism2022_english-1201', 'sexism2022_english-17524', 'sexism2022_english-5378', 'sexism2022_english-17310', 'sexism2022_english-12093', 'sexism2022_english-17364', 'sexism2022_english-13688', 'sexism2022_english-19959', 'sexism2022_english-294', 'sexism2022_english-2897', 'sexism2022_english-3633', 'sexism2022_english-1449', 'sexism2022_english-12727', 'sexism2022_english-18636', 'sexism2022_english-11239', 'sexism2022_english-6849', 'sexism2022_english-8907', 'sexism2022_english-9181', 'sexism2022_english-6664', 'sexism2022_english-11904', 'sexism2022_english-7566', 'sexism2022_english-17293', 'sexism2022_english-7776', 'sexism2022_english-8046', 'sexism2022_english-14978', 'sexism2022_english-16148', 'sexism2022_english-10799', 'sexism2022_english-10321', 'sexism2022_english-4700', 'sexism2022_english-13343', 'sexism2022_english-19171', 'sexism2022_english-1559', 'sexism2022_english-8052', 'sexism2022_english-8712', 'sexism2022_english-11900', 'sexism2022_english-1814', 'sexism2022_english-12716', 'sexism2022_english-12804', 'sexism2022_english-10766', 'sexism2022_english-12308', 'sexism2022_english-17395', 'sexism2022_english-14263', 'sexism2022_english-15003', 'sexism2022_english-17780', 'sexism2022_english-13897', 'sexism2022_english-12245', 'sexism2022_english-9222', 'sexism2022_english-15317', 'sexism2022_english-4217', 'sexism2022_english-19864', 'sexism2022_english-15767', 'sexism2022_english-4885', 'sexism2022_english-12342', 'sexism2022_english-11997', 'sexism2022_english-4193', 'sexism2022_english-15084', 'sexism2022_english-2095', 'sexism2022_english-16857', 'sexism2022_english-5962', 'sexism2022_english-17309', 'sexism2022_english-11508', 'sexism2022_english-6867', 'sexism2022_english-5165', 'sexism2022_english-7475', 'sexism2022_english-14865', 'sexism2022_english-17297', 'sexism2022_english-2990', 'sexism2022_english-7712', 'sexism2022_english-17100', 'sexism2022_english-3423', 'sexism2022_english-6696', 'sexism2022_english-6475', 'sexism2022_english-18005', 'sexism2022_english-15617', 'sexism2022_english-13801', 'sexism2022_english-8612', 'sexism2022_english-18164', 'sexism2022_english-17052', 'sexism2022_english-12964', 'sexism2022_english-6628', 'sexism2022_english-2455', 'sexism2022_english-7591', 'sexism2022_english-15002', 'sexism2022_english-10889', 'sexism2022_english-13350', 'sexism2022_english-4330', 'sexism2022_english-1313', 'sexism2022_english-1296', 'sexism2022_english-16671', 'sexism2022_english-919', 'sexism2022_english-2330', 'sexism2022_english-6131', 'sexism2022_english-14219', 'sexism2022_english-6630', 'sexism2022_english-15600', 'sexism2022_english-3712', 'sexism2022_english-6693', 'sexism2022_english-4360', 'sexism2022_english-1307', 'sexism2022_english-7304', 'sexism2022_english-8986', 'sexism2022_english-10435', 'sexism2022_english-15890', 'sexism2022_english-10153', 'sexism2022_english-12719', 'sexism2022_english-2774', 'sexism2022_english-12423', 'sexism2022_english-16315', 'sexism2022_english-11638', 'sexism2022_english-2386', 'sexism2022_english-17004', 'sexism2022_english-11301', 'sexism2022_english-1738', 'sexism2022_english-7072', 'sexism2022_english-5578', 'sexism2022_english-7993', 'sexism2022_english-16653', 'sexism2022_english-6057', 'sexism2022_english-11140', 'sexism2022_english-10896', 'sexism2022_english-10136', 'sexism2022_english-7335', 'sexism2022_english-16902', 'sexism2022_english-13761', 'sexism2022_english-11761', 'sexism2022_english-6665', 'sexism2022_english-11460', 'sexism2022_english-4656', 'sexism2022_english-532', 'sexism2022_english-5813', 'sexism2022_english-12529', 'sexism2022_english-8691', 'sexism2022_english-14852', 'sexism2022_english-12621', 'sexism2022_english-19213', 'sexism2022_english-17450', 'sexism2022_english-6430', 'sexism2022_english-8066', 'sexism2022_english-3433', 'sexism2022_english-4251', 'sexism2022_english-1191', 'sexism2022_english-12336', 'sexism2022_english-16680', 'sexism2022_english-15941', 'sexism2022_english-12264', 'sexism2022_english-18764', 'sexism2022_english-14970', 'sexism2022_english-565', 'sexism2022_english-15442', 'sexism2022_english-16942', 'sexism2022_english-18142', 'sexism2022_english-6038', 'sexism2022_english-13704', 'sexism2022_english-3785', 'sexism2022_english-13064', 'sexism2022_english-10792', 'sexism2022_english-16238', 'sexism2022_english-1958', 'sexism2022_english-5392', 'sexism2022_english-16826', 'sexism2022_english-15742', 'sexism2022_english-7948', 'sexism2022_english-15831', 'sexism2022_english-3250', 'sexism2022_english-4457', 'sexism2022_english-1854', 'sexism2022_english-3418', 'sexism2022_english-18294', 'sexism2022_english-14143', 'sexism2022_english-4249', 'sexism2022_english-8901', 'sexism2022_english-13470', 'sexism2022_english-12007', 'sexism2022_english-1845', 'sexism2022_english-1932', 'sexism2022_english-15046', 'sexism2022_english-8500', 'sexism2022_english-16424', 'sexism2022_english-14121', 'sexism2022_english-13174', 'sexism2022_english-14236', 'sexism2022_english-7854', 'sexism2022_english-11265', 'sexism2022_english-5649', 'sexism2022_english-7137', 'sexism2022_english-10117', 'sexism2022_english-16848', 'sexism2022_english-6558', 'sexism2022_english-11553', 'sexism2022_english-18068', 'sexism2022_english-993', 'sexism2022_english-1673', 'sexism2022_english-7267', 'sexism2022_english-1302', 'sexism2022_english-4564', 'sexism2022_english-11603', 'sexism2022_english-19218', 'sexism2022_english-193', 'sexism2022_english-5263', 'sexism2022_english-487', 'sexism2022_english-13280', 'sexism2022_english-3532', 'sexism2022_english-19910', 'sexism2022_english-8874', 'sexism2022_english-8657', 'sexism2022_english-6894', 'sexism2022_english-14737', 'sexism2022_english-6386', 'sexism2022_english-19843', 'sexism2022_english-16875', 'sexism2022_english-3283', 'sexism2022_english-17039', 'sexism2022_english-9116', 'sexism2022_english-8575', 'sexism2022_english-5030', 'sexism2022_english-19439', 'sexism2022_english-16955', 'sexism2022_english-14092', 'sexism2022_english-1186', 'sexism2022_english-2452', 'sexism2022_english-18997', 'sexism2022_english-9527', 'sexism2022_english-16948', 'sexism2022_english-15065', 'sexism2022_english-19891', 'sexism2022_english-18789', 'sexism2022_english-10134', 'sexism2022_english-11514', 'sexism2022_english-14061', 'sexism2022_english-15649', 'sexism2022_english-2598', 'sexism2022_english-10350', 'sexism2022_english-3267', 'sexism2022_english-12830', 'sexism2022_english-2467', 'sexism2022_english-15251', 'sexism2022_english-8608', 'sexism2022_english-5104', 'sexism2022_english-7469', 'sexism2022_english-10678', 'sexism2022_english-9177', 'sexism2022_english-11340', 'sexism2022_english-1804', 'sexism2022_english-12871', 'sexism2022_english-13675', 'sexism2022_english-3905', 'sexism2022_english-2293', 'sexism2022_english-13519', 'sexism2022_english-13389', 'sexism2022_english-5842', 'sexism2022_english-13059', 'sexism2022_english-10112', 'sexism2022_english-1952', 'sexism2022_english-7708', 'sexism2022_english-18691', 'sexism2022_english-3278', 'sexism2022_english-12356', 'sexism2022_english-17227', 'sexism2022_english-2128', 'sexism2022_english-12215', 'sexism2022_english-8058', 'sexism2022_english-11843', 'sexism2022_english-19939', 'sexism2022_english-6325', 'sexism2022_english-8078', 'sexism2022_english-16940', 'sexism2022_english-18876', 'sexism2022_english-19576', 'sexism2022_english-11886', 'sexism2022_english-15538', 'sexism2022_english-10847', 'sexism2022_english-15817', 'sexism2022_english-12523', 'sexism2022_english-18034', 'sexism2022_english-5097', 'sexism2022_english-12214', 'sexism2022_english-7023', 'sexism2022_english-18454', 'sexism2022_english-17757', 'sexism2022_english-1452', 'sexism2022_english-13349', 'sexism2022_english-19064', 'sexism2022_english-19613', 'sexism2022_english-13668', 'sexism2022_english-13363', 'sexism2022_english-17754', 'sexism2022_english-7652', 'sexism2022_english-3404', 'sexism2022_english-795', 'sexism2022_english-14909', 'sexism2022_english-12276', 'sexism2022_english-1619', 'sexism2022_english-10965', 'sexism2022_english-1868', 'sexism2022_english-4829', 'sexism2022_english-5530', 'sexism2022_english-760', 'sexism2022_english-6109', 'sexism2022_english-7716', 'sexism2022_english-1380', 'sexism2022_english-2311', 'sexism2022_english-13425', 'sexism2022_english-17291', 'sexism2022_english-19486', 'sexism2022_english-17777', 'sexism2022_english-1420', 'sexism2022_english-15958', 'sexism2022_english-950', 'sexism2022_english-301', 'sexism2022_english-1205', 'sexism2022_english-15273', 'sexism2022_english-17120', 'sexism2022_english-15115', 'sexism2022_english-11413', 'sexism2022_english-19900', 'sexism2022_english-3998', 'sexism2022_english-14947', 'sexism2022_english-9718', 'sexism2022_english-16260', 'sexism2022_english-4199', 'sexism2022_english-18735', 'sexism2022_english-1565', 'sexism2022_english-19866', 'sexism2022_english-8504', 'sexism2022_english-12667', 'sexism2022_english-542', 'sexism2022_english-14108', 'sexism2022_english-7820', 'sexism2022_english-8261', 'sexism2022_english-8109', 'sexism2022_english-12030', 'sexism2022_english-3065', 'sexism2022_english-4821', 'sexism2022_english-4892', 'sexism2022_english-2078', 'sexism2022_english-6846', 'sexism2022_english-11507', 'sexism2022_english-14872', 'sexism2022_english-6527', 'sexism2022_english-576', 'sexism2022_english-3751', 'sexism2022_english-18427', 'sexism2022_english-10821', 'sexism2022_english-15954', 'sexism2022_english-16201', 'sexism2022_english-733', 'sexism2022_english-13119', 'sexism2022_english-12391', 'sexism2022_english-11496', 'sexism2022_english-9929', 'sexism2022_english-7579', 'sexism2022_english-12306', 'sexism2022_english-16555', 'sexism2022_english-783', 'sexism2022_english-8552', 'sexism2022_english-7376', 'sexism2022_english-18200', 'sexism2022_english-12977', 'sexism2022_english-9799', 'sexism2022_english-10731', 'sexism2022_english-11142', 'sexism2022_english-9522', 'sexism2022_english-18029', 'sexism2022_english-4302', 'sexism2022_english-7060', 'sexism2022_english-18918', 'sexism2022_english-3126', 'sexism2022_english-4387', 'sexism2022_english-16503', 'sexism2022_english-11434', 'sexism2022_english-11298', 'sexism2022_english-2049', 'sexism2022_english-1290', 'sexism2022_english-13361', 'sexism2022_english-4377', 'sexism2022_english-13638', 'sexism2022_english-8908', 'sexism2022_english-5437', 'sexism2022_english-1572', 'sexism2022_english-14744', 'sexism2022_english-9357', 'sexism2022_english-1593', 'sexism2022_english-4950', 'sexism2022_english-3419', 'sexism2022_english-17572', 'sexism2022_english-7362', 'sexism2022_english-18321', 'sexism2022_english-7561', 'sexism2022_english-208', 'sexism2022_english-5558', 'sexism2022_english-6431', 'sexism2022_english-6423', 'sexism2022_english-11987', 'sexism2022_english-6429', 'sexism2022_english-17782', 'sexism2022_english-4185', 'sexism2022_english-4900', 'sexism2022_english-14317', 'sexism2022_english-2065', 'sexism2022_english-11781', 'sexism2022_english-8182', 'sexism2022_english-5622', 'sexism2022_english-4480', 'sexism2022_english-19570', 'sexism2022_english-4011', 'sexism2022_english-1792', 'sexism2022_english-16093', 'sexism2022_english-9474', 'sexism2022_english-18850', 'sexism2022_english-19623', 'sexism2022_english-3738', 'sexism2022_english-3206', 'sexism2022_english-17941', 'sexism2022_english-4427', 'sexism2022_english-3103', 'sexism2022_english-11017', 'sexism2022_english-12897', 'sexism2022_english-6379', 'sexism2022_english-3249', 'sexism2022_english-11973', 'sexism2022_english-10375', 'sexism2022_english-14340', 'sexism2022_english-15252', 'sexism2022_english-16493', 'sexism2022_english-15740', 'sexism2022_english-16152', 'sexism2022_english-17815', 'sexism2022_english-582', 'sexism2022_english-7287', 'sexism2022_english-14117', 'sexism2022_english-10958', 'sexism2022_english-2744', 'sexism2022_english-97', 'sexism2022_english-19907', 'sexism2022_english-17088', 'sexism2022_english-9103', 'sexism2022_english-18860', 'sexism2022_english-17882', 'sexism2022_english-15095', 'sexism2022_english-10042', 'sexism2022_english-11071', 'sexism2022_english-15455', 'sexism2022_english-6253', 'sexism2022_english-9379', 'sexism2022_english-18179', 'sexism2022_english-16187', 'sexism2022_english-3285', 'sexism2022_english-10146', 'sexism2022_english-10992', 'sexism2022_english-14521', 'sexism2022_english-17017', 'sexism2022_english-1869', 'sexism2022_english-15527', 'sexism2022_english-12174', 'sexism2022_english-829', 'sexism2022_english-12997', 'sexism2022_english-9199', 'sexism2022_english-10838', 'sexism2022_english-17594', 'sexism2022_english-13426', 'sexism2022_english-2659', 'sexism2022_english-18525', 'sexism2022_english-17604', 'sexism2022_english-3946', 'sexism2022_english-10031', 'sexism2022_english-12851', 'sexism2022_english-3788', 'sexism2022_english-10573', 'sexism2022_english-9271', 'sexism2022_english-9456', 'sexism2022_english-18076', 'sexism2022_english-3815', 'sexism2022_english-8741', 'sexism2022_english-17083', 'sexism2022_english-7764', 'sexism2022_english-17119', 'sexism2022_english-12422', 'sexism2022_english-19824', 'sexism2022_english-9605', 'sexism2022_english-17342', 'sexism2022_english-14471', 'sexism2022_english-14164', 'sexism2022_english-3471', 'sexism2022_english-19066', 'sexism2022_english-6572', 'sexism2022_english-9687', 'sexism2022_english-14700', 'sexism2022_english-17013', 'sexism2022_english-14652', 'sexism2022_english-7026', 'sexism2022_english-13447', 'sexism2022_english-2233', 'sexism2022_english-18814', 'sexism2022_english-7048', 'sexism2022_english-3576', 'sexism2022_english-5023', 'sexism2022_english-5723', 'sexism2022_english-5318', 'sexism2022_english-5215', 'sexism2022_english-12198', 'sexism2022_english-4406', 'sexism2022_english-4311', 'sexism2022_english-5827', 'sexism2022_english-4456', 'sexism2022_english-12587', 'sexism2022_english-15876', 'sexism2022_english-1594', 'sexism2022_english-15874', 'sexism2022_english-4200', 'sexism2022_english-17589', 'sexism2022_english-15344', 'sexism2022_english-4005', 'sexism2022_english-536', 'sexism2022_english-10368', 'sexism2022_english-3167', 'sexism2022_english-18991', 'sexism2022_english-17032', 'sexism2022_english-16168', 'sexism2022_english-3624', 'sexism2022_english-18317', 'sexism2022_english-2940', 'sexism2022_english-14348', 'sexism2022_english-11667', 'sexism2022_english-3755', 'sexism2022_english-17636', 'sexism2022_english-14607', 'sexism2022_english-7481', 'sexism2022_english-10082', 'sexism2022_english-8848', 'sexism2022_english-8426', 'sexism2022_english-12494', 'sexism2022_english-2568', 'sexism2022_english-9084', 'sexism2022_english-13927', 'sexism2022_english-3725', 'sexism2022_english-2548', 'sexism2022_english-18332', 'sexism2022_english-8905', 'sexism2022_english-9045', 'sexism2022_english-15777', 'sexism2022_english-3263', 'sexism2022_english-10998', 'sexism2022_english-14300', 'sexism2022_english-18745', 'sexism2022_english-17521', 'sexism2022_english-19712', 'sexism2022_english-17211', 'sexism2022_english-9268', 'sexism2022_english-2097', 'sexism2022_english-6590', 'sexism2022_english-18844', 'sexism2022_english-12169', 'sexism2022_english-15841', 'sexism2022_english-11913', 'sexism2022_english-12867', 'sexism2022_english-16651', 'sexism2022_english-1719', 'sexism2022_english-2317', 'sexism2022_english-10377', 'sexism2022_english-15795', 'sexism2022_english-2900', 'sexism2022_english-3654', 'sexism2022_english-221', 'sexism2022_english-16460', 'sexism2022_english-19204', 'sexism2022_english-18419', 'sexism2022_english-15297', 'sexism2022_english-3838', 'sexism2022_english-5876', 'sexism2022_english-17157', 'sexism2022_english-13393', 'sexism2022_english-7548', 'sexism2022_english-2669', 'sexism2022_english-10488', 'sexism2022_english-18974', 'sexism2022_english-11619', 'sexism2022_english-19321', 'sexism2022_english-15913', 'sexism2022_english-12805', 'sexism2022_english-2732', 'sexism2022_english-19517', 'sexism2022_english-2430', 'sexism2022_english-13079', 'sexism2022_english-458', 'sexism2022_english-18711', 'sexism2022_english-12175', 'sexism2022_english-3740', 'sexism2022_english-7623', 'sexism2022_english-17489', 'sexism2022_english-13186', 'sexism2022_english-12733', 'sexism2022_english-6465', 'sexism2022_english-3499', 'sexism2022_english-18062', 'sexism2022_english-4042', 'sexism2022_english-6908', 'sexism2022_english-17167', 'sexism2022_english-14592', 'sexism2022_english-19985', 'sexism2022_english-3959', 'sexism2022_english-8625', 'sexism2022_english-19123', 'sexism2022_english-18592', 'sexism2022_english-17991', 'sexism2022_english-9608', 'sexism2022_english-12634', 'sexism2022_english-19203', 'sexism2022_english-3308', 'sexism2022_english-16708', 'sexism2022_english-14304', 'sexism2022_english-10182', 'sexism2022_english-6425', 'sexism2022_english-5550', 'sexism2022_english-7586', 'sexism2022_english-11597', 'sexism2022_english-10525', 'sexism2022_english-6034', 'sexism2022_english-2480', 'sexism2022_english-5346', 'sexism2022_english-15520', 'sexism2022_english-549', 'sexism2022_english-11559', 'sexism2022_english-18926', 'sexism2022_english-11933', 'sexism2022_english-13622', 'sexism2022_english-8645', 'sexism2022_english-14935', 'sexism2022_english-10655', 'sexism2022_english-4830', 'sexism2022_english-12698', 'sexism2022_english-17854', 'sexism2022_english-12521', 'sexism2022_english-1588', 'sexism2022_english-17410', 'sexism2022_english-19362', 'sexism2022_english-12803', 'sexism2022_english-639', 'sexism2022_english-7246', 'sexism2022_english-17208', 'sexism2022_english-4988', 'sexism2022_english-10208', 'sexism2022_english-11255', 'sexism2022_english-640', 'sexism2022_english-1311', 'sexism2022_english-16376', 'sexism2022_english-17833', 'sexism2022_english-7955', 'sexism2022_english-2889', 'sexism2022_english-13416', 'sexism2022_english-14593', 'sexism2022_english-5149', 'sexism2022_english-10465', 'sexism2022_english-5225', 'sexism2022_english-7851', 'sexism2022_english-4338', 'sexism2022_english-12865', 'sexism2022_english-14853', 'sexism2022_english-13693', 'sexism2022_english-2431', 'sexism2022_english-5066', 'sexism2022_english-101', 'sexism2022_english-2050', 'sexism2022_english-2561', 'sexism2022_english-14868', 'sexism2022_english-7677', 'sexism2022_english-6104', 'sexism2022_english-12054', 'sexism2022_english-15631', 'sexism2022_english-3864', 'sexism2022_english-17401', 'sexism2022_english-19605', 'sexism2022_english-8979', 'sexism2022_english-11256', 'sexism2022_english-18816', 'sexism2022_english-127', 'sexism2022_english-7710', 'sexism2022_english-16008', 'sexism2022_english-4835', 'sexism2022_english-14565', 'sexism2022_english-16333', 'sexism2022_english-18060', 'sexism2022_english-4818', 'sexism2022_english-9935', 'sexism2022_english-1271', 'sexism2022_english-5642', 'sexism2022_english-2216', 'sexism2022_english-1364', 'sexism2022_english-8240', 'sexism2022_english-4925', 'sexism2022_english-4581', 'sexism2022_english-6743', 'sexism2022_english-6661', 'sexism2022_english-13348', 'sexism2022_english-7160', 'sexism2022_english-5265', 'sexism2022_english-15103', 'sexism2022_english-2299', 'sexism2022_english-2909', 'sexism2022_english-19585', 'sexism2022_english-15427', 'sexism2022_english-12752', 'sexism2022_english-5130', 'sexism2022_english-2472', 'sexism2022_english-17336', 'sexism2022_english-3191', 'sexism2022_english-8776', 'sexism2022_english-4093', 'sexism2022_english-9936', 'sexism2022_english-3677', 'sexism2022_english-19008', 'sexism2022_english-5770', 'sexism2022_english-14211', 'sexism2022_english-8445', 'sexism2022_english-7497', 'sexism2022_english-5424', 'sexism2022_english-1515', 'sexism2022_english-7799', 'sexism2022_english-11378', 'sexism2022_english-12035', 'sexism2022_english-11831', 'sexism2022_english-1699', 'sexism2022_english-12540', 'sexism2022_english-8486', 'sexism2022_english-8960', 'sexism2022_english-2738', 'sexism2022_english-10206', 'sexism2022_english-17348', 'sexism2022_english-14948', 'sexism2022_english-17109', 'sexism2022_english-18226', 'sexism2022_english-19235', 'sexism2022_english-16494', 'sexism2022_english-9641', 'sexism2022_english-14904', 'sexism2022_english-17418', 'sexism2022_english-17110', 'sexism2022_english-11032', 'sexism2022_english-7414', 'sexism2022_english-1222', 'sexism2022_english-17059', 'sexism2022_english-8926', 'sexism2022_english-4930', 'sexism2022_english-18505', 'sexism2022_english-10623', 'sexism2022_english-7490', 'sexism2022_english-6804', 'sexism2022_english-4993', 'sexism2022_english-12544', 'sexism2022_english-12799', 'sexism2022_english-3467', 'sexism2022_english-11119', 'sexism2022_english-1357', 'sexism2022_english-17915', 'sexism2022_english-18481', 'sexism2022_english-16548', 'sexism2022_english-19263', 'sexism2022_english-17977', 'sexism2022_english-17117', 'sexism2022_english-4928', 'sexism2022_english-19601', 'sexism2022_english-17997', 'sexism2022_english-2784', 'sexism2022_english-8800', 'sexism2022_english-14837', 'sexism2022_english-8128', 'sexism2022_english-16497', 'sexism2022_english-772', 'sexism2022_english-15828', 'sexism2022_english-10774', 'sexism2022_english-16898', 'sexism2022_english-15479', 'sexism2022_english-17761', 'sexism2022_english-14995', 'sexism2022_english-3789', 'sexism2022_english-11717', 'sexism2022_english-17981', 'sexism2022_english-3478', 'sexism2022_english-13608', 'sexism2022_english-19312', 'sexism2022_english-1400', 'sexism2022_english-6720', 'sexism2022_english-19540', 'sexism2022_english-3500', 'sexism2022_english-11738', 'sexism2022_english-3884', 'sexism2022_english-7830', 'sexism2022_english-17212', 'sexism2022_english-10215', 'sexism2022_english-1613', 'sexism2022_english-17478', 'sexism2022_english-1339', 'sexism2022_english-15616', 'sexism2022_english-9044', 'sexism2022_english-6579', 'sexism2022_english-19317', 'sexism2022_english-19617', 'sexism2022_english-9615', 'sexism2022_english-11880', 'sexism2022_english-3848', 'sexism2022_english-11328', 'sexism2022_english-14830', 'sexism2022_english-431', 'sexism2022_english-2619', 'sexism2022_english-4240', 'sexism2022_english-9231', 'sexism2022_english-406', 'sexism2022_english-8517', 'sexism2022_english-8034', 'sexism2022_english-16666', 'sexism2022_english-15154', 'sexism2022_english-8385', 'sexism2022_english-17152', 'sexism2022_english-422', 'sexism2022_english-3487', 'sexism2022_english-3080', 'sexism2022_english-11036', 'sexism2022_english-7824', 'sexism2022_english-6851', 'sexism2022_english-5465', 'sexism2022_english-7917', 'sexism2022_english-16273', 'sexism2022_english-13965', 'sexism2022_english-2009', 'sexism2022_english-14265', 'sexism2022_english-7049', 'sexism2022_english-7867', 'sexism2022_english-415', 'sexism2022_english-15937', 'sexism2022_english-16899', 'sexism2022_english-8221', 'sexism2022_english-1482', 'sexism2022_english-18504', 'sexism2022_english-460', 'sexism2022_english-10881', 'sexism2022_english-904', 'sexism2022_english-9115', 'sexism2022_english-13215', 'sexism2022_english-7569', 'sexism2022_english-1808', 'sexism2022_english-19637', 'sexism2022_english-4537', 'sexism2022_english-4570', 'sexism2022_english-6230', 'sexism2022_english-16697', 'sexism2022_english-1677', 'sexism2022_english-9227', 'sexism2022_english-596', 'sexism2022_english-7003', 'sexism2022_english-12184', 'sexism2022_english-17346', 'sexism2022_english-2427', 'sexism2022_english-16010', 'sexism2022_english-8452', 'sexism2022_english-14964', 'sexism2022_english-4156', 'sexism2022_english-16221', 'sexism2022_english-15633', 'sexism2022_english-8264', 'sexism2022_english-13010', 'sexism2022_english-2189', 'sexism2022_english-12211', 'sexism2022_english-4331', 'sexism2022_english-4745', 'sexism2022_english-1320', 'sexism2022_english-8873', 'sexism2022_english-16757', 'sexism2022_english-3410', 'sexism2022_english-18837', 'sexism2022_english-11001', 'sexism2022_english-4912', 'sexism2022_english-17259', 'sexism2022_english-11416', 'sexism2022_english-4053', 'sexism2022_english-2426', 'sexism2022_english-6622', 'sexism2022_english-1811', 'sexism2022_english-5188', 'sexism2022_english-3730', 'sexism2022_english-19946', 'sexism2022_english-13607', 'sexism2022_english-18993', 'sexism2022_english-13125', 'sexism2022_english-17459', 'sexism2022_english-19103', 'sexism2022_english-2885', 'sexism2022_english-17889', 'sexism2022_english-16870', 'sexism2022_english-3150', 'sexism2022_english-6912', 'sexism2022_english-14793', 'sexism2022_english-2651', 'sexism2022_english-4805', 'sexism2022_english-16808', 'sexism2022_english-1292', 'sexism2022_english-4243', 'sexism2022_english-17616', 'sexism2022_english-12233', 'sexism2022_english-13830', 'sexism2022_english-558', 'sexism2022_english-19374', 'sexism2022_english-2409', 'sexism2022_english-6637', 'sexism2022_english-17485', 'sexism2022_english-13478', 'sexism2022_english-5917', 'sexism2022_english-16806', 'sexism2022_english-12229', 'sexism2022_english-95', 'sexism2022_english-15952', 'sexism2022_english-6761', 'sexism2022_english-13979', 'sexism2022_english-746', 'sexism2022_english-906', 'sexism2022_english-18766', 'sexism2022_english-8208', 'sexism2022_english-3393', 'sexism2022_english-5867', 'sexism2022_english-16821', 'sexism2022_english-13590', 'sexism2022_english-18784', 'sexism2022_english-19050', 'sexism2022_english-732', 'sexism2022_english-204', 'sexism2022_english-16202', 'sexism2022_english-6312', 'sexism2022_english-11609', 'sexism2022_english-11475', 'sexism2022_english-12152', 'sexism2022_english-17126', 'sexism2022_english-6068', 'sexism2022_english-17389', 'sexism2022_english-14183', 'sexism2022_english-18447', 'sexism2022_english-10581', 'sexism2022_english-3313', 'sexism2022_english-6680', 'sexism2022_english-18418', 'sexism2022_english-8195', 'sexism2022_english-2529', 'sexism2022_english-15834', 'sexism2022_english-12695', 'sexism2022_english-13932', 'sexism2022_english-12032', 'sexism2022_english-19720', 'sexism2022_english-16405', 'sexism2022_english-8340', 'sexism2022_english-19018', 'sexism2022_english-18089', 'sexism2022_english-2294', 'sexism2022_english-17620', 'sexism2022_english-19583', 'sexism2022_english-15623', 'sexism2022_english-9600', 'sexism2022_english-7253', 'sexism2022_english-3898', 'sexism2022_english-148', 'sexism2022_english-12968', 'sexism2022_english-5021', 'sexism2022_english-1517', 'sexism2022_english-5818', 'sexism2022_english-18769', 'sexism2022_english-16844', 'sexism2022_english-15810', 'sexism2022_english-15456', 'sexism2022_english-4119', 'sexism2022_english-6818', 'sexism2022_english-18433', 'sexism2022_english-12113', 'sexism2022_english-16810', 'sexism2022_english-6370', 'sexism2022_english-19318', 'sexism2022_english-14519', 'sexism2022_english-17094', 'sexism2022_english-5074', 'sexism2022_english-18231', 'sexism2022_english-873', 'sexism2022_english-4610', 'sexism2022_english-12246', 'sexism2022_english-11825', 'sexism2022_english-14037', 'sexism2022_english-5966', 'sexism2022_english-19686', 'sexism2022_english-5445', 'sexism2022_english-19074', 'sexism2022_english-16676', 'sexism2022_english-11792', 'sexism2022_english-8388', 'sexism2022_english-9483', 'sexism2022_english-13452', 'sexism2022_english-18417', 'sexism2022_english-18256', 'sexism2022_english-15682', 'sexism2022_english-13015', 'sexism2022_english-12532', 'sexism2022_english-6146', 'sexism2022_english-10876', 'sexism2022_english-13862', 'sexism2022_english-17476', 'sexism2022_english-6442', 'sexism2022_english-10073', 'sexism2022_english-15690', 'sexism2022_english-15483', 'sexism2022_english-1374', 'sexism2022_english-3405', 'sexism2022_english-16507', 'sexism2022_english-9351', 'sexism2022_english-17304', 'sexism2022_english-10533', 'sexism2022_english-4279', 'sexism2022_english-12927', 'sexism2022_english-1756', 'sexism2022_english-3351', 'sexism2022_english-311', 'sexism2022_english-4779', 'sexism2022_english-12650', 'sexism2022_english-12295', 'sexism2022_english-15737', 'sexism2022_english-13260', 'sexism2022_english-18697', 'sexism2022_english-211', 'sexism2022_english-4921', 'sexism2022_english-7455', 'sexism2022_english-16704', 'sexism2022_english-8555', 'sexism2022_english-15278', 'sexism2022_english-19009', 'sexism2022_english-15648', 'sexism2022_english-8286', 'sexism2022_english-2475', 'sexism2022_english-11601', 'sexism2022_english-8667', 'sexism2022_english-6340', 'sexism2022_english-337', 'sexism2022_english-17623', 'sexism2022_english-2448', 'sexism2022_english-9865', 'sexism2022_english-18100', 'sexism2022_english-3181', 'sexism2022_english-9568', 'sexism2022_english-16603', 'sexism2022_english-18680', 'sexism2022_english-12260', 'sexism2022_english-16351', 'sexism2022_english-9989', 'sexism2022_english-8473', 'sexism2022_english-6617', 'sexism2022_english-4341', 'sexism2022_english-14250', 'sexism2022_english-3737', 'sexism2022_english-13793', 'sexism2022_english-7629', 'sexism2022_english-11314', 'sexism2022_english-9202', 'sexism2022_english-1945', 'sexism2022_english-19111', 'sexism2022_english-2163', 'sexism2022_english-15222', 'sexism2022_english-6122', 'sexism2022_english-9137', 'sexism2022_english-8375', 'sexism2022_english-7359', 'sexism2022_english-4484', 'sexism2022_english-7936', 'sexism2022_english-15439', 'sexism2022_english-3580', 'sexism2022_english-17535', 'sexism2022_english-2006', 'sexism2022_english-14377', 'sexism2022_english-2978', 'sexism2022_english-7935', 'sexism2022_english-6294', 'sexism2022_english-15476', 'sexism2022_english-6778', 'sexism2022_english-10029', 'sexism2022_english-19222', 'sexism2022_english-9236', 'sexism2022_english-3457', 'sexism2022_english-18367', 'sexism2022_english-3674', 'sexism2022_english-11372', 'sexism2022_english-15865', 'sexism2022_english-7223', 'sexism2022_english-16745', 'sexism2022_english-7412', 'sexism2022_english-2178', 'sexism2022_english-18415', 'sexism2022_english-9505', 'sexism2022_english-4573', 'sexism2022_english-2413', 'sexism2022_english-9356', 'sexism2022_english-6974', 'sexism2022_english-1441', 'sexism2022_english-1073', 'sexism2022_english-4726', 'sexism2022_english-2412', 'sexism2022_english-7269', 'sexism2022_english-14974', 'sexism2022_english-14367', 'sexism2022_english-1279', 'sexism2022_english-67', 'sexism2022_english-10342', 'sexism2022_english-14048', 'sexism2022_english-14430', 'sexism2022_english-1998', 'sexism2022_english-151', 'sexism2022_english-4139', 'sexism2022_english-10802', 'sexism2022_english-6114', 'sexism2022_english-14708', 'sexism2022_english-16056', 'sexism2022_english-7030', 'sexism2022_english-2991', 'sexism2022_english-19125', 'sexism2022_english-15280', 'sexism2022_english-10900', 'sexism2022_english-7115', 'sexism2022_english-6564', 'sexism2022_english-18036', 'sexism2022_english-4998', 'sexism2022_english-18097', 'sexism2022_english-19467', 'sexism2022_english-483', 'sexism2022_english-18222', 'sexism2022_english-4502', 'sexism2022_english-2052', 'sexism2022_english-19230', 'sexism2022_english-1189', 'sexism2022_english-15168', 'sexism2022_english-494', 'sexism2022_english-16664', 'sexism2022_english-6864', 'sexism2022_english-15930', 'sexism2022_english-10291', 'sexism2022_english-11349', 'sexism2022_english-4689', 'sexism2022_english-3368', 'sexism2022_english-14775', 'sexism2022_english-4898', 'sexism2022_english-19386', 'sexism2022_english-8210', 'sexism2022_english-17564', 'sexism2022_english-4108', 'sexism2022_english-9658', 'sexism2022_english-17091', 'sexism2022_english-16229', 'sexism2022_english-15749', 'sexism2022_english-8683', 'sexism2022_english-19764', 'sexism2022_english-12555', 'sexism2022_english-12995', 'sexism2022_english-19462', 'sexism2022_english-6082', 'sexism2022_english-17597', 'sexism2022_english-17935', 'sexism2022_english-16956', 'sexism2022_english-1809', 'sexism2022_english-4836', 'sexism2022_english-7968', 'sexism2022_english-455', 'sexism2022_english-15111', 'sexism2022_english-2943', 'sexism2022_english-15824', 'sexism2022_english-6198', 'sexism2022_english-16106', 'sexism2022_english-4865', 'sexism2022_english-5784', 'sexism2022_english-106', 'sexism2022_english-10456', 'sexism2022_english-9099', 'sexism2022_english-18803', 'sexism2022_english-17272', 'sexism2022_english-5659', 'sexism2022_english-9058', 'sexism2022_english-2397', 'sexism2022_english-8624', 'sexism2022_english-8872', 'sexism2022_english-17517', 'sexism2022_english-11940', 'sexism2022_english-18577', 'sexism2022_english-12626', 'sexism2022_english-6982', 'sexism2022_english-15487', 'sexism2022_english-6853', 'sexism2022_english-18159', 'sexism2022_english-6937', 'sexism2022_english-11861', 'sexism2022_english-4815', 'sexism2022_english-16650', 'sexism2022_english-19031', 'sexism2022_english-7807', 'sexism2022_english-1506', 'sexism2022_english-5423', 'sexism2022_english-14475', 'sexism2022_english-13001', 'sexism2022_english-2646', 'sexism2022_english-15703', 'sexism2022_english-18402', 'sexism2022_english-8538', 'sexism2022_english-6275', 'sexism2022_english-14277', 'sexism2022_english-14270', 'sexism2022_english-13518', 'sexism2022_english-965', 'sexism2022_english-18187', 'sexism2022_english-7107', 'sexism2022_english-13485', 'sexism2022_english-19211', 'sexism2022_english-8225', 'sexism2022_english-3782', 'sexism2022_english-3310', 'sexism2022_english-7317', 'sexism2022_english-15298', 'sexism2022_english-16794', 'sexism2022_english-8351', 'sexism2022_english-3254', 'sexism2022_english-11833', 'sexism2022_english-14588', 'sexism2022_english-1396', 'sexism2022_english-395', 'sexism2022_english-16220', 'sexism2022_english-16190', 'sexism2022_english-14982', 'sexism2022_english-6361', 'sexism2022_english-17611', 'sexism2022_english-5072', 'sexism2022_english-7312', 'sexism2022_english-3210', 'sexism2022_english-18531', 'sexism2022_english-9473', 'sexism2022_english-292', 'sexism2022_english-5113', 'sexism2022_english-5833', 'sexism2022_english-1995', 'sexism2022_english-8485', 'sexism2022_english-3142', 'sexism2022_english-608', 'sexism2022_english-11084', 'sexism2022_english-10326', 'sexism2022_english-19677', 'sexism2022_english-4559', 'sexism2022_english-1856', 'sexism2022_english-7428', 'sexism2022_english-11875', 'sexism2022_english-3412', 'sexism2022_english-17667', 'sexism2022_english-10825', 'sexism2022_english-18416', 'sexism2022_english-10083', 'sexism2022_english-4937', 'sexism2022_english-13944', 'sexism2022_english-9124', 'sexism2022_english-12784', 'sexism2022_english-1807', 'sexism2022_english-5231', 'sexism2022_english-17288', 'sexism2022_english-11042', 'sexism2022_english-16429', 'sexism2022_english-7869', 'sexism2022_english-12680', 'sexism2022_english-4441', 'sexism2022_english-16574', 'sexism2022_english-14366', 'sexism2022_english-3907', 'sexism2022_english-15852', 'sexism2022_english-8931', 'sexism2022_english-10891', 'sexism2022_english-4235', 'sexism2022_english-12564', 'sexism2022_english-14876', 'sexism2022_english-4486', 'sexism2022_english-10369', 'sexism2022_english-7356', 'sexism2022_english-15557', 'sexism2022_english-10726', 'sexism2022_english-1232', 'sexism2022_english-6326', 'sexism2022_english-19594', 'sexism2022_english-15478', 'sexism2022_english-19600', 'sexism2022_english-14454', 'sexism2022_english-10645', 'sexism2022_english-16645', 'sexism2022_english-16896', 'sexism2022_english-15769', 'sexism2022_english-12503', 'sexism2022_english-4589', 'sexism2022_english-11367', 'sexism2022_english-7368', 'sexism2022_english-15685', 'sexism2022_english-13071', 'sexism2022_english-5061', 'sexism2022_english-1882', 'sexism2022_english-4524', 'sexism2022_english-16533', 'sexism2022_english-7178', 'sexism2022_english-5450', 'sexism2022_english-15862', 'sexism2022_english-13512', 'sexism2022_english-10441', 'sexism2022_english-12893', 'sexism2022_english-1173', 'sexism2022_english-13713', 'sexism2022_english-1483', 'sexism2022_english-3643', 'sexism2022_english-16391', 'sexism2022_english-11915', 'sexism2022_english-5716', 'sexism2022_english-9183', 'sexism2022_english-14201', 'sexism2022_english-18842', 'sexism2022_english-13281', 'sexism2022_english-6298', 'sexism2022_english-13508', 'sexism2022_english-15058', 'sexism2022_english-8990', 'sexism2022_english-9514', 'sexism2022_english-17483', 'sexism2022_english-4329', 'sexism2022_english-15681', 'sexism2022_english-1938', 'sexism2022_english-9363', 'sexism2022_english-17650', 'sexism2022_english-11227', 'sexism2022_english-12445', 'sexism2022_english-14812', 'sexism2022_english-9298', 'sexism2022_english-13587', 'sexism2022_english-7675', 'sexism2022_english-17726', 'sexism2022_english-8892', 'sexism2022_english-13889', 'sexism2022_english-10477', 'sexism2022_english-4276', 'sexism2022_english-5582', 'sexism2022_english-19085', 'sexism2022_english-1707', 'sexism2022_english-19480', 'sexism2022_english-7574', 'sexism2022_english-8994', 'sexism2022_english-7036', 'sexism2022_english-1831', 'sexism2022_english-3333', 'sexism2022_english-14707', 'sexism2022_english-3443', 'sexism2022_english-14388', 'sexism2022_english-16505', 'sexism2022_english-11155', 'sexism2022_english-4002', 'sexism2022_english-12591', 'sexism2022_english-18093', 'sexism2022_english-14428', 'sexism2022_english-13454', 'sexism2022_english-10614', 'sexism2022_english-5083', 'sexism2022_english-5166', 'sexism2022_english-16752', 'sexism2022_english-8402', 'sexism2022_english-16987', 'sexism2022_english-14989', 'sexism2022_english-10379', 'sexism2022_english-19953', 'sexism2022_english-8091', 'sexism2022_english-13615', 'sexism2022_english-1131', 'sexism2022_english-7878', 'sexism2022_english-2332', 'sexism2022_english-12145', 'sexism2022_english-16872', 'sexism2022_english-6053', 'sexism2022_english-1110', 'sexism2022_english-15448', 'sexism2022_english-345', 'sexism2022_english-2229', 'sexism2022_english-708', 'sexism2022_english-3767', 'sexism2022_english-14870', 'sexism2022_english-15386', 'sexism2022_english-10728', 'sexism2022_english-1255', 'sexism2022_english-2957', 'sexism2022_english-4286', 'sexism2022_english-3112', 'sexism2022_english-6897', 'sexism2022_english-11853', 'sexism2022_english-8835', 'sexism2022_english-13464', 'sexism2022_english-780', 'sexism2022_english-287', 'sexism2022_english-16271', 'sexism2022_english-18751', 'sexism2022_english-9926', 'sexism2022_english-6107', 'sexism2022_english-5026', 'sexism2022_english-7154', 'sexism2022_english-12189', 'sexism2022_english-2221', 'sexism2022_english-15036', 'sexism2022_english-12075', 'sexism2022_english-19895', 'sexism2022_english-12416', 'sexism2022_english-18167', 'sexism2022_english-439', 'sexism2022_english-15377', 'sexism2022_english-12713', 'sexism2022_english-451', 'sexism2022_english-9020', 'sexism2022_english-6682', 'sexism2022_english-9127', 'sexism2022_english-15898', 'sexism2022_english-18779', 'sexism2022_english-614', 'sexism2022_english-8762', 'sexism2022_english-14991', 'sexism2022_english-16652', 'sexism2022_english-14269', 'sexism2022_english-17443', 'sexism2022_english-10613', 'sexism2022_english-19791', 'sexism2022_english-19241', 'sexism2022_english-13359', 'sexism2022_english-11379', 'sexism2022_english-16582', 'sexism2022_english-9661', 'sexism2022_english-1187', 'sexism2022_english-8863', 'sexism2022_english-10397', 'sexism2022_english-16830', 'sexism2022_english-15918', 'sexism2022_english-15961', 'sexism2022_english-3668', 'sexism2022_english-13473', 'sexism2022_english-11170', 'sexism2022_english-194', 'sexism2022_english-1618', 'sexism2022_english-11558', 'sexism2022_english-15020', 'sexism2022_english-16442', 'sexism2022_english-2469', 'sexism2022_english-19413', 'sexism2022_english-10516', 'sexism2022_english-16085', 'sexism2022_english-9596', 'sexism2022_english-19053', 'sexism2022_english-8878', 'sexism2022_english-16480', 'sexism2022_english-2331', 'sexism2022_english-16448', 'sexism2022_english-2730', 'sexism2022_english-2647', 'sexism2022_english-3328', 'sexism2022_english-4923', 'sexism2022_english-17831', 'sexism2022_english-5565', 'sexism2022_english-12580', 'sexism2022_english-12909', 'sexism2022_english-3170', 'sexism2022_english-6757', 'sexism2022_english-8200', 'sexism2022_english-2906', 'sexism2022_english-19451', 'sexism2022_english-6157', 'sexism2022_english-7724', 'sexism2022_english-5965', 'sexism2022_english-12077', 'sexism2022_english-12754', 'sexism2022_english-9809', 'sexism2022_english-7218', 'sexism2022_english-7576', 'sexism2022_english-11765', 'sexism2022_english-3186', 'sexism2022_english-14548', 'sexism2022_english-14845', 'sexism2022_english-1806', 'sexism2022_english-16461', 'sexism2022_english-15269', 'sexism2022_english-7271', 'sexism2022_english-8705', 'sexism2022_english-18346', 'sexism2022_english-6160', 'sexism2022_english-9595', 'sexism2022_english-14445', 'sexism2022_english-12275', 'sexism2022_english-2087', 'sexism2022_english-5251', 'sexism2022_english-4888', 'sexism2022_english-7775', 'sexism2022_english-10686', 'sexism2022_english-15081', 'sexism2022_english-8954', 'sexism2022_english-10669', 'sexism2022_english-17694', 'sexism2022_english-17634', 'sexism2022_english-1904', 'sexism2022_english-5924', 'sexism2022_english-4534', 'sexism2022_english-1877', 'sexism2022_english-6939', 'sexism2022_english-18182', 'sexism2022_english-14670', 'sexism2022_english-12624', 'sexism2022_english-6388', 'sexism2022_english-178', 'sexism2022_english-13434', 'sexism2022_english-11375', 'sexism2022_english-11879', 'sexism2022_english-10607', 'sexism2022_english-2188', 'sexism2022_english-3083', 'sexism2022_english-13776', 'sexism2022_english-17824', 'sexism2022_english-19608', 'sexism2022_english-17681', 'sexism2022_english-12916', 'sexism2022_english-18922', 'sexism2022_english-15950', 'sexism2022_english-11158', 'sexism2022_english-17162', 'sexism2022_english-5785', 'sexism2022_english-18270', 'sexism2022_english-3407', 'sexism2022_english-5563', 'sexism2022_english-17425', 'sexism2022_english-2312', 'sexism2022_english-4792', 'sexism2022_english-17649', 'sexism2022_english-1925', 'sexism2022_english-10878', 'sexism2022_english-3670', 'sexism2022_english-15779', 'sexism2022_english-18325', 'sexism2022_english-14569', 'sexism2022_english-1763', 'sexism2022_english-362', 'sexism2022_english-17857', 'sexism2022_english-19520', 'sexism2022_english-17442', 'sexism2022_english-326', 'sexism2022_english-10938', 'sexism2022_english-4069', 'sexism2022_english-5361', 'sexism2022_english-13789', 'sexism2022_english-1737', 'sexism2022_english-249', 'sexism2022_english-5387', 'sexism2022_english-6383', 'sexism2022_english-12060', 'sexism2022_english-18443', 'sexism2022_english-6959', 'sexism2022_english-18996', 'sexism2022_english-9663', 'sexism2022_english-16627', 'sexism2022_english-4350', 'sexism2022_english-2831', 'sexism2022_english-12003', 'sexism2022_english-6728', 'sexism2022_english-18911', 'sexism2022_english-19460', 'sexism2022_english-12717', 'sexism2022_english-497', 'sexism2022_english-231', 'sexism2022_english-4010', 'sexism2022_english-3526', 'sexism2022_english-4004', 'sexism2022_english-16193', 'sexism2022_english-8906', 'sexism2022_english-19322', 'sexism2022_english-6511', 'sexism2022_english-9953', 'sexism2022_english-1172', 'sexism2022_english-3909', 'sexism2022_english-11253', 'sexism2022_english-2428', 'sexism2022_english-1171', 'sexism2022_english-13866', 'sexism2022_english-1596', 'sexism2022_english-18355', 'sexism2022_english-10423', 'sexism2022_english-9561', 'sexism2022_english-14849', 'sexism2022_english-5650', 'sexism2022_english-13235', 'sexism2022_english-15474', 'sexism2022_english-7329', 'sexism2022_english-6242', 'sexism2022_english-9983', 'sexism2022_english-6568', 'sexism2022_english-12476', 'sexism2022_english-19083', 'sexism2022_english-13934', 'sexism2022_english-9665', 'sexism2022_english-8185', 'sexism2022_english-17641', 'sexism2022_english-12176']\n",
            "Nombre d'entrées non matchées avec notre regex la plus précise : 2921\n"
          ]
        }
      ],
      "source": [
        "liste_sexist_unmatchedRegexSpe = []\n",
        "# Vérification de la présence d'au moins un terme insultant spécifique dans les entrées sexistes\n",
        "nbr_entrees_matchs=0\n",
        "with open(\"non_labelled_sexist.csv\", \"r\", encoding=\"utf-8\") as f_in_sexist:\n",
        "    for index,line in enumerate(f_in_sexist, start=1):\n",
        "        if index>=2:\n",
        "            matches = regexInsultsSpe.findall(line)\n",
        "            if len(matches) > 0:\n",
        "                nbr_entrees_matchs+=1\n",
        "            # Afficher les entrées ne contenant pas de correspondances afin de rajouter des termes à la regex et récupérer les id des entrées non matchées\n",
        "            else:\n",
        "                unmatches = regexID.findall(line)\n",
        "                liste_sexist_unmatchedRegexSpe.append(unmatches[0])\n",
        "\n",
        "print(\"Nombre d'entrées contenant au moins un terme de la regex :\", nbr_entrees_matchs, \"sur\", nbr_entrees_sexist,\". On a donc réussi à matcher\", nbr_entrees_matchs/nbr_entrees_sexist*100, \"% des entrées sexistes avec notre regex la plus précise.\")\n",
        "print(\"Les id des entrées non matchées avec notre regex la plus spécifique sont :\", liste_sexist_unmatchedRegexSpe)\n",
        "print(\"Nombre d'entrées non matchées avec notre regex la plus précise :\", len(liste_sexist_unmatchedRegexSpe))"
      ]
    },
    {
      "cell_type": "markdown",
      "metadata": {
        "id": "GXt6c8nkO0jX"
      },
      "source": [
        "On peut ainsi voir que, même si l'on ne dépasse pas le 40% du corpus sexiste, la présence d'au moins un terme de notre regexInsultSpe est relativement efficace comme premier filtre. La recherche de match avec notre regex la plus spécifique sera donc notre première étape de catégorisation."
      ]
    },
    {
      "cell_type": "markdown",
      "metadata": {
        "id": "zuMB4YI9O0jX"
      },
      "source": [
        "# Deuxième étape : \"Nettoyage\" du corpus et regex descriptive"
      ]
    },
    {
      "cell_type": "markdown",
      "metadata": {
        "id": "tK0V-XR1O0jY"
      },
      "source": [
        "Pour ne pas repasser sur les entrées sexistes déjà \"reconnues\" comme telles, nous créons un sous corpus avec uniquement les entrées sexistes qui passent le premier filtre."
      ]
    },
    {
      "cell_type": "code",
      "execution_count": 35,
      "metadata": {
        "id": "nQ4WuDsGO0jY",
        "outputId": "98e78a7e-c596-42d5-bca2-2e3e07b5a578"
      },
      "outputs": [
        {
          "name": "stdout",
          "output_type": "stream",
          "text": [
            "Nous avons ainsi bien recupéré les 2921 entrées sexistes qui ne matchent pas notre regex la plus spécifique.\n"
          ]
        }
      ],
      "source": [
        "tabS=pd.read_csv(\"non_labelled_sexist.csv\",sep=\",\")\n",
        "\n",
        "# Création d'un fichier avec les entrées sexistes qui ne matchent pas notre regex la plus spécifique\n",
        "with open(\"non_labelled_sexist_unmatchedRegexSpe.csv\", \"w\", encoding=\"utf-8\") as f_out_unmatched:\n",
        "    f_out_unmatched.write(\"rewire_id,text\\n\")\n",
        "    for i in range(len(tabS)):\n",
        "        id=tabS[\"rewire_id\"].iloc[i]\n",
        "        text = tabS[\"text\"].iloc[i]\n",
        "        for j in liste_sexist_unmatchedRegexSpe:\n",
        "            if id == j:\n",
        "                text_escaped = text.replace('\"', '\"\"')\n",
        "                f_out_unmatched.write(id+\",\\\"\"+text_escaped+\"\\\"\\n\")\n",
        "\n",
        "tabUmRS=pd.read_csv(\"non_labelled_sexist_unmatchedRegexSpe.csv\",sep=\",\")\n",
        "print(\"Nous avons ainsi bien recupéré les\",len(tabUmRS),\"entrées sexistes qui ne matchent pas notre regex la plus spécifique.\")"
      ]
    },
    {
      "cell_type": "markdown",
      "metadata": {
        "id": "S_4bFvdUO0jZ"
      },
      "source": [
        "Puisque nous savons que nous ne trouverons pas d'insultes sexistes déjà repertorié dans ce sous corpus mais que des termes plus génériques liés aux femmes sont présents (puisque notre première regex contenait ces derniers et qu'elle couvrait plus de 99% du corpus sexiste), nous recherchons ces termes dans notre corpus. Nous réintégrons également les termes comme \"vagina(s)\", \"chick(s) ou \"gal(s)\"."
      ]
    },
    {
      "cell_type": "code",
      "execution_count": 36,
      "metadata": {
        "id": "vzVYSRhJO0ja",
        "outputId": "1930d5a2-4846-4d86-dc4f-62fd3b41f362"
      },
      "outputs": [
        {
          "name": "stdout",
          "output_type": "stream",
          "text": [
            "Nombre d'entrées contenant au moins un terme de la regex : 2862 sur  2921 . On a donc réussi à matcher 97.98014378637453 % des entrées sexistes avec cette regex.\n",
            "Les id des entrées non matchées sont : ['sexism2022_english-4332', 'sexism2022_english-16502', 'sexism2022_english-12602', 'sexism2022_english-2378', 'sexism2022_english-12024', 'sexism2022_english-4392', 'sexism2022_english-2930', 'sexism2022_english-9285', 'sexism2022_english-8155', 'sexism2022_english-3880', 'sexism2022_english-7046', 'sexism2022_english-3886', 'sexism2022_english-1069', 'sexism2022_english-18782', 'sexism2022_english-2013', 'sexism2022_english-6417', 'sexism2022_english-4167', 'sexism2022_english-19842', 'sexism2022_english-6159', 'sexism2022_english-9733', 'sexism2022_english-12463', 'sexism2022_english-3906', 'sexism2022_english-5216', 'sexism2022_english-12613', 'sexism2022_english-17748', 'sexism2022_english-2961', 'sexism2022_english-1028', 'sexism2022_english-2285', 'sexism2022_english-8980', 'sexism2022_english-387', 'sexism2022_english-12964', 'sexism2022_english-16942', 'sexism2022_english-13064', 'sexism2022_english-16424', 'sexism2022_english-15538', 'sexism2022_english-11781', 'sexism2022_english-9474', 'sexism2022_english-5723', 'sexism2022_english-9045', 'sexism2022_english-6034', 'sexism2022_english-19008', 'sexism2022_english-7497', 'sexism2022_english-3080', 'sexism2022_english-8221', 'sexism2022_english-17485', 'sexism2022_english-5966', 'sexism2022_english-9351', 'sexism2022_english-15648', 'sexism2022_english-1441', 'sexism2022_english-5423', 'sexism2022_english-965', 'sexism2022_english-4559', 'sexism2022_english-15685', 'sexism2022_english-5166', 'sexism2022_english-6157', 'sexism2022_english-16461', 'sexism2022_english-6388', 'sexism2022_english-10938', 'sexism2022_english-9561']\n",
            "Leur nombre est de 59\n"
          ]
        }
      ],
      "source": [
        "liste_unmatchedRegexDsc=[]\n",
        "# Motif regex avec les termes génériques\n",
        "patternDsc = r'\\b(?!(?:man|men)\\b)(she|her|\\w*wom[ae]n|wi[v|f]es?|girls?|lad[y|i]e?s?|daughters?|sisters?|girlfriends?|aunti?e?s?|grandmothers?|mothers?|m[o|u]mm?[i|y]?e?s?|females?|feminine|metoo|femininity|feminis[m|t]s?|gals?|chicks?|vaginas?)\\b'\n",
        "\n",
        "# Compiler les regex (avec l'option d'insensibilité à la casse pour le motif descriptif)\n",
        "regexDsc = re.compile(patternDsc, re.IGNORECASE)\n",
        "\n",
        "# Vérification de la présence d'au moins un terme de la regex générale dans le corpus sexiste\n",
        "nbr_entrees=0\n",
        "nbr_entrees_matchs=0\n",
        "with open(\"non_labelled_sexist_unmatchedRegexSpe.csv\", \"r\", encoding=\"utf-8\") as f_in_sexistNonInsults:\n",
        "    for index,line in enumerate(f_in_sexistNonInsults, start=1):\n",
        "        if index>=2:\n",
        "            nbr_entrees+=1\n",
        "            # Trouver toutes les correspondances\n",
        "            matches = regexDsc.findall(line)\n",
        "            if len(matches) > 0:\n",
        "                nbr_entrees_matchs+=1\n",
        "            # On récupére les id des entrées non matchées\n",
        "            else:\n",
        "                unmatches = regexID.findall(line)\n",
        "                liste_unmatchedRegexDsc.append(unmatches[0])\n",
        "\n",
        "print(\"Nombre d'entrées contenant au moins un terme de la regex :\", nbr_entrees_matchs, \"sur \", nbr_entrees,\". On a donc réussi à matcher\", nbr_entrees_matchs/nbr_entrees*100, \"% des entrées sexistes avec cette regex.\")\n",
        "\n",
        "# Nous conservons les id des entrées non matchées pour pouvoir les étudier par la suite\n",
        "print(\"Les id des entrées non matchées sont :\", liste_unmatchedRegexDsc)\n",
        "print(\"Leur nombre est de\", len(liste_unmatchedRegexDsc))"
      ]
    },
    {
      "cell_type": "markdown",
      "metadata": {
        "id": "u31ToMVeO0jb"
      },
      "source": [
        "# Troisième étape : Evaluation de la polarité et classification sexiste/non sexiste grâce à des modèles Transformers\n",
        "\n",
        "Nous allons maintenant utiliser un modèle Transformers afin d'étudier les entrées contenant au moins un terme faisant référence à une ou des femmes mais ne contenant pas les termes insultants que nous avions mis dans notre regexInsultsSpe. Pour ce faire, nous avons choisi de classer toutes nos entrées selon leur polarité.\n",
        "Ce premier classement nous permettra de voir la quantité de données perdues avec cette méthode.\n",
        "Si cela est efficace et ne nous fait pas perdre trop de faux négatif, nous procèderons à la même analyse sur le corpus non sexiste.\n"
      ]
    },
    {
      "cell_type": "code",
      "execution_count": 30,
      "metadata": {},
      "outputs": [
        {
          "name": "stderr",
          "output_type": "stream",
          "text": [
            "All PyTorch model weights were used when initializing TFDistilBertForSequenceClassification.\n",
            "\n",
            "All the weights of TFDistilBertForSequenceClassification were initialized from the PyTorch model.\n",
            "If your task is similar to the task the model of the checkpoint was trained on, you can already use TFDistilBertForSequenceClassification for predictions without further training.\n"
          ]
        },
        {
          "name": "stdout",
          "output_type": "stream",
          "text": [
            "Le nombre d'entrées sexistes positives est de 376 soit 12.859097127222983 %.\n",
            "Le nombre d'entrées sexistes négatives est de 2479 soit 84.78112175102599 %.\n",
            "Le nombre d'entrées sexistes neutres est de 27 soit 0.9233926128590971 %.\n"
          ]
        }
      ],
      "source": [
        "compteur_pola_pos=0\n",
        "compteur_pola_neg=0\n",
        "compteur_pola_neutre=0\n",
        "\n",
        "# Charger le tokenizer et le modèle\n",
        "model_name = \"lxyuan/distilbert-base-multilingual-cased-sentiments-student\"\n",
        "tokenizer = DistilBertTokenizer.from_pretrained(model_name)\n",
        "model = TFDistilBertForSequenceClassification.from_pretrained(model_name)\n",
        "\n",
        "with open(\"non_labelled_sexist_unmatchedRegexSpe.csv\", \"r\", encoding=\"utf-8\") as f_in_sexistNonInsults, open(\"non_labelled_sexist_unmatchedRegexSpe_neg.csv\", \"w\", encoding=\"utf-8\") as f_out_sexist_neg, open(\"non_labelled_sexist_unmatchedRegexSpe_pos.csv\", \"w\", encoding=\"utf-8\") as f_out_sexist_pos, open(\"non_labelled_sexist_unmatchedRegexSpe_neutre.csv\", \"w\", encoding=\"utf-8\") as f_out_sexist_neutre:\n",
        "    f_out_sexist_neg.write(\"rewire_id,text\\n\")\n",
        "    f_out_sexist_pos.write(\"rewire_id,text\\n\")\n",
        "    f_out_sexist_neutre.write(\"rewire_id,text\\n\")\n",
        "    for index,line in enumerate(f_in_sexistNonInsults, start=1):\n",
        "        if index>=2:\n",
        "            matches = regexDsc.findall(line)\n",
        "            if len(matches) > 0:\n",
        "                inputs = tokenizer(line, return_tensors=\"tf\", padding=True, truncation=True)\n",
        "                # Effectuer des prédictions\n",
        "                outputs = model(inputs.data)\n",
        "                # Obtenir les scores et les étiquettes prédites\n",
        "                predictions = tf.nn.softmax(outputs.logits, axis=-1)\n",
        "                predicted_labels = tf.argmax(predictions, axis=1)\n",
        "                # Définir le mapping des labels\n",
        "                label_map = {0: 'positive', 1: 'neutral', 2: 'negative'}\n",
        "                # Filtrer et afficher les résultats\n",
        "                for text, label in zip(line, predicted_labels):\n",
        "                    label_str = label_map[label.numpy()]\n",
        "                    if label_str in ['positive']:\n",
        "                        f_out_sexist_pos.write(line)\n",
        "                        compteur_pola_pos+=1\n",
        "                    elif label_str in ['negative']:\n",
        "                        f_out_sexist_neg.write(line)\n",
        "                        compteur_pola_neg+=1\n",
        "                    elif label_str in ['neutral']:\n",
        "                        f_out_sexist_neutre.write(line)\n",
        "                        compteur_pola_neutre+=1\n",
        "\n",
        "print(\"Le nombre d'entrées sexistes avec un polarité positive est de\", compteur_pola_pos, \"soit\", compteur_pola_pos/len(tabUmRS)*100, \"%.\")\n",
        "print(\"Le nombre d'entrées sexistes avec une polarité négative est de\", compteur_pola_neg, \"soit\", compteur_pola_neg/len(tabUmRS)*100, \"%.\")\n",
        "print(\"Le nombre d'entrées sexistes avec une polarité neutre est de\", compteur_pola_neutre, \"soit\", compteur_pola_neutre/len(tabUmRS)*100, \"%.\")\n",
        "\n",
        "                "
      ]
    },
    {
      "cell_type": "markdown",
      "metadata": {},
      "source": [
        "Au vu du temps d'exécution assez important (près de 15 minutes pour un corpus de moins de 5000 entrées), nous avons fait le choix de ne pas poursuivre dans cette voie puisque notre corpus non sexiste comprend plus de 15000 entrées. Nous avons tout de même indiquer en NB 2 et dans le dossier ce que nous aurions aimé mettre en place si notre système le permettait.\n",
        "\n",
        "Si cette méthode semble relativement efficace puisque nous perdons assez peu d'entrées (environ 13% de polarité positive, soit des faux négatif), non avons conscience que ne pas pouvoir vérifier son efficacité sur le corpus non sexiste est un biais important pour nos résultats."
      ]
    },
    {
      "cell_type": "markdown",
      "metadata": {
        "id": "pfTo0FFkO0jb"
      },
      "source": [
        "# NB : Pistes de réflexion et/ou d'améliorations"
      ]
    },
    {
      "cell_type": "markdown",
      "metadata": {
        "id": "YS6KNBFeO0jc"
      },
      "source": [
        "## NB1 : Catégories mal/non reconnues grâce à l'analyse lexicale proposée\n",
        "\n",
        "On revient rapidement ici sur notre liste d'entrées sexistes pour laquelle notre regexGeneral n'était pas efficace et nous allons chercher à savoir si elles correspondent à un ou des vecteurs particuliers de sexisme que l'on ne peut pas repérer avec une analyse lexicale grâce à un dictionnaire. (Nous avons choisi les vecteurs plutôt que les catégories pour être le plus précis possible.)"
      ]
    },
    {
      "cell_type": "code",
      "execution_count": 37,
      "metadata": {
        "id": "_kLNDAM4O0jd",
        "outputId": "37a1e185-e5ee-4170-d76d-3c139fbebfc7"
      },
      "outputs": [
        {
          "name": "stdout",
          "output_type": "stream",
          "text": [
            "2.1 descriptive attacks: 11 (18.33%)\n",
            "3.2 immutable gender differences and gender stereotypes: 10 (16.67%)\n",
            "4.2 supporting systemic discrimination against women as a group: 9 (15.00%)\n",
            "2.3 dehumanising attacks & overt sexual objectification: 8 (13.33%)\n",
            "3.1 casual use of gendered slurs, profanities, and insults: 7 (11.67%)\n",
            "1.2 incitement and encouragement of harm: 5 (8.33%)\n",
            "3.3 backhanded gendered compliments: 3 (5.00%)\n",
            "2.2 aggressive and emotive attacks: 3 (5.00%)\n",
            "4.1 supporting mistreatment of individual women: 2 (3.33%)\n",
            "3.4 condescending explanations or unwelcome advice: 1 (1.67%)\n",
            "1.1 threats of harm: 1 (1.67%)\n"
          ]
        }
      ],
      "source": [
        "# Création d'un dictionnaire pour compter et classer les vector_category\n",
        "vector_counts = defaultdict(int)\n",
        "\n",
        "#On récupère les label_category des entrées non matchées et on les stocke dans un dictionnaire pour les compter\n",
        "\n",
        "for i in range(len(tabA)):\n",
        "    id=tabA[\"rewire_id\"].iloc[i]\n",
        "    label_vector = tabA[\"label_vector\"].iloc[i]\n",
        "    text = tabA[\"text\"].iloc[i]\n",
        "    for j in liste_unmatched_Csexist:\n",
        "        if id == j:\n",
        "            vector_counts[label_vector] += 1\n",
        "\n",
        "# On trie les label_category par ordre décroissant\n",
        "vector_counts = dict(sorted(vector_counts.items(), key=lambda item: item[1], reverse=True))\n",
        "\n",
        "# On affiche la répartition des vector_category\n",
        "for vector, count in vector_counts.items():\n",
        "    percentage = (count / len(liste_unmatched_Csexist)) * 100\n",
        "    print(f\"{vector}: {count} ({percentage:.2f}%)\")\n"
      ]
    },
    {
      "cell_type": "markdown",
      "metadata": {
        "id": "q2XBaXFDO0je"
      },
      "source": [
        "Les deux catégories les plus représentées sont donc \"3.2 immutable gender differences and gender stereotypes\" et \"2.1 descriptive attacks\". Il serait intéressant d'analyser plus précisément ces entrées pour repérer leurs caractéristiques afin de faciliter leurs catégorisation."
      ]
    },
    {
      "cell_type": "markdown",
      "metadata": {},
      "source": [
        "## NB 2 Suite possible du projet\n",
        "\n",
        "Si nous avions poussé plus loin le projet, nous aurions procédé comme suit :\n",
        "\n",
        "- Nous aurions tout d'abord vérifié le taux de couverture sur le corpus non sexiste.\n",
        "La première étape aurait été de filtrer les entrées avec notre regex descriptive pour vérifier la présence d'au moins un terme faisant référence aux femmes puis la répartition des polarités sur ces entrées.\n",
        "\n",
        "- Si le résultat obtenu avait montré que la polarité était majoritairement neutre ou positive dans le corpus non sexiste, nous aurions considéré que l'association de notre regex et de l'analyse de la polarité était une méthode efficace.\n",
        "Dans le cas contraire, nous aurions souhaité utiliser un modèle de classification en 2 classes : sexiste/non-sexiste comme le modèle 'NLP-LTU/distilbert-sexism-detector'qui obtient de bons résultats pour cette tâche."
      ]
    }
  ],
  "metadata": {
    "colab": {
      "provenance": [],
      "toc_visible": true
    },
    "kernelspec": {
      "display_name": "Python 3",
      "language": "python",
      "name": "python3"
    },
    "language_info": {
      "codemirror_mode": {
        "name": "ipython",
        "version": 3
      },
      "file_extension": ".py",
      "mimetype": "text/x-python",
      "name": "python",
      "nbconvert_exporter": "python",
      "pygments_lexer": "ipython3",
      "version": "3.12.3"
    }
  },
  "nbformat": 4,
  "nbformat_minor": 0
}
